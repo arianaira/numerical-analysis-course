{
 "cells": [
  {
   "cell_type": "markdown",
   "id": "94daacce",
   "metadata": {},
   "source": [
    "# Derivative\n",
    "__Author__ : Ariana Aghamohamadi - 400222006\n",
    "\n",
    "__Course__ : Undergraduate Numerical Analysis Course"
   ]
  },
  {
   "cell_type": "code",
   "execution_count": 1,
   "id": "b1eaed29",
   "metadata": {},
   "outputs": [],
   "source": [
    "import math\n",
    "import sympy as sp\n",
    "import pandas as pd\n",
    "import numpy as np\n",
    "import matplotlib.pyplot as plt"
   ]
  },
  {
   "cell_type": "markdown",
   "id": "a0a72cd8",
   "metadata": {},
   "source": [
    "importing neccessary packages"
   ]
  },
  {
   "cell_type": "markdown",
   "id": "22e15f12",
   "metadata": {},
   "source": [
    "## Problem 1 : First Derivative"
   ]
  },
  {
   "cell_type": "code",
   "execution_count": 2,
   "id": "264da61a",
   "metadata": {},
   "outputs": [],
   "source": [
    "def f(x):\n",
    "    return math.sin(3 * x)"
   ]
  },
  {
   "cell_type": "markdown",
   "id": "74440cfc",
   "metadata": {},
   "source": [
    "defining function $f(x) = $sin(3x)"
   ]
  },
  {
   "cell_type": "code",
   "execution_count": 3,
   "id": "9eabf8f1",
   "metadata": {},
   "outputs": [],
   "source": [
    "def f_1(x):\n",
    "    return 3 * math.cos(3 * x)"
   ]
  },
  {
   "cell_type": "markdown",
   "id": "77d54e05",
   "metadata": {},
   "source": [
    "defining derivative of function f : $f_1(x) = $3cos(3x)"
   ]
  },
  {
   "cell_type": "code",
   "execution_count": 4,
   "id": "f0b5d331",
   "metadata": {},
   "outputs": [],
   "source": [
    "def forward_diff(x, h):\n",
    "    return (f(x + h) - f(x)) / h"
   ]
  },
  {
   "cell_type": "markdown",
   "id": "bcd7b00d",
   "metadata": {},
   "source": [
    "defining derivative function with forward finite method"
   ]
  },
  {
   "cell_type": "code",
   "execution_count": 5,
   "id": "9a75cd2c",
   "metadata": {},
   "outputs": [],
   "source": [
    "def central_diff(x, h):\n",
    "    return ((f(x + h) - f(x - h)) / (2 * h))"
   ]
  },
  {
   "cell_type": "markdown",
   "id": "e355c51e",
   "metadata": {},
   "source": [
    "defining derivative function with central finite method"
   ]
  },
  {
   "cell_type": "code",
   "execution_count": 6,
   "id": "fa04f0c9",
   "metadata": {},
   "outputs": [
    {
     "name": "stdout",
     "output_type": "stream",
     "text": [
      "real value :  2.880510859951098\n",
      "\n",
      "h =  1\n",
      "estimated forward value :  0.6915339834406824\n",
      "forward error :  2.1889768765104156\n",
      "estimated central value :  0.1354992385909447\n",
      "central error :  2.7450116213601534\n",
      "\n",
      "h =  0.5\n",
      "estimated forward value :  2.4348309499473295\n",
      "forward error :  0.4456799100037685\n",
      "forward ratio :  0.28401724705185044\n",
      "estimated central value :  1.915530094439836\n",
      "central error :  0.9649807655112621\n",
      "central ratio :  0.07073720166770292\n",
      "\n",
      "h =  0.25\n",
      "estimated forward value :  2.917838287918174\n",
      "forward error :  0.03732742796707589\n",
      "forward ratio :  0.8344639797308776\n",
      "estimated central value :  2.6179571344144192\n",
      "central error :  0.2625537255366788\n",
      "central ratio :  0.7316888688738209\n",
      "\n",
      "h =  0.125\n",
      "estimated forward value :  2.968809973512829\n",
      "forward error :  0.08829911356173081\n",
      "forward ratio :  0.9828309369581028\n",
      "estimated central value :  2.8134719939576383\n",
      "central error :  0.06703886599345976\n",
      "central ratio :  0.9305076219123144\n",
      "\n",
      "h =  0.0625\n",
      "estimated forward value :  2.94201815738226\n",
      "forward error :  0.06150729743116212\n",
      "forward ratio :  1.0091066114134413\n",
      "estimated central value :  2.8636625101568307\n",
      "central error :  0.016848349794267303\n",
      "central ratio :  0.9824733131012552\n",
      "\n"
     ]
    }
   ],
   "source": [
    "x = 2\n",
    "h = 1\n",
    "first = True\n",
    "real = f_1(x)\n",
    "print('real value : ', real)\n",
    "print()\n",
    "\n",
    "hs = [0, 0, 0, 0, 0]\n",
    "error_fs = [0, 0, 0, 0, 0]\n",
    "error_cs = [0, 0, 0, 0, 0]\n",
    "\n",
    "for i in range(5):\n",
    "    forward = forward_diff(x, h)\n",
    "    central = central_diff(x, h)\n",
    "    error_f = abs(real - forward)\n",
    "    error_c = abs(real - central)\n",
    "    hs[i] = h\n",
    "    error_fs[i] = error_f\n",
    "    error_cs[i] = error_c\n",
    "    \n",
    "    print('h = ', h)\n",
    "    print('estimated forward value : ', forward)\n",
    "    print('forward error : ', error_f)\n",
    "    if not first:\n",
    "        ratio_f = prev_f / forward\n",
    "        print('forward ratio : ', ratio_f)\n",
    "    \n",
    "    print('estimated central value : ', central)\n",
    "    print('central error : ', error_c)\n",
    "    if not first:\n",
    "        ratio_c = prev_c / central\n",
    "        print('central ratio : ', ratio_c)\n",
    "    print()\n",
    "    \n",
    "    h = h / 2\n",
    "    prev_f = forward\n",
    "    prev_c = central\n",
    "    first  = False"
   ]
  },
  {
   "cell_type": "markdown",
   "id": "1568dcd4",
   "metadata": {},
   "source": [
    "testing the output of derivative with forward and central method , their error and ratio with 5 different value for h ,each more precise"
   ]
  },
  {
   "cell_type": "code",
   "execution_count": 7,
   "id": "2f52da96",
   "metadata": {},
   "outputs": [
    {
     "data": {
      "image/png": "[encoded data removed]",
      "text/plain": [
       "<Figure size 640x480 with 1 Axes>"
      ]
     },
     "metadata": {},
     "output_type": "display_data"
    }
   ],
   "source": [
    "plt.scatter(hs, error_fs, c='b', marker='x', label='forward')\n",
    "plt.scatter(hs, error_cs, c='r', marker='s', label='central')\n",
    "plt.ylabel('error')\n",
    "plt.xlabel('h')\n",
    "plt.legend(loc='upper left')\n",
    "plt.show()"
   ]
  },
  {
   "cell_type": "markdown",
   "id": "b002adf5",
   "metadata": {},
   "source": [
    "## Conclusion for this problem\n",
    "from the given errors for each method we can see that the error decreases when h is smaller and forward method's error is closer to the real error when h has larger values"
   ]
  },
  {
   "cell_type": "markdown",
   "id": "7b055e9b",
   "metadata": {},
   "source": [
    "ploting error of forward and central based on values of h"
   ]
  },
  {
   "cell_type": "markdown",
   "id": "dbbdb11c",
   "metadata": {},
   "source": [
    "## Problem 2 : Second Derivative"
   ]
  },
  {
   "cell_type": "code",
   "execution_count": 8,
   "id": "3b15bc1b",
   "metadata": {},
   "outputs": [],
   "source": [
    "def f_2(x):\n",
    "    return -9 * math.sin(3 * x)"
   ]
  },
  {
   "cell_type": "markdown",
   "id": "c44922a8",
   "metadata": {},
   "source": [
    "defining second derivative function for $f = $-9sin(3x) (real value)"
   ]
  },
  {
   "cell_type": "code",
   "execution_count": 9,
   "id": "0aa3353d",
   "metadata": {},
   "outputs": [],
   "source": [
    "def estimation_f_2(x, h):\n",
    "    return (f(x + h) - (2 * f(x)) + f(x - h)) / (h * h)"
   ]
  },
  {
   "cell_type": "markdown",
   "id": "fd749224",
   "metadata": {},
   "source": [
    "defining second derivative function for f : estimataion using real fisrt derivative value"
   ]
  },
  {
   "cell_type": "code",
   "execution_count": 10,
   "id": "27316553",
   "metadata": {},
   "outputs": [],
   "source": [
    "def estimation_f_2_c(x, h):\n",
    "    return (central_diff(x + h, h) - central_diff(x, h)) / h"
   ]
  },
  {
   "cell_type": "markdown",
   "id": "858aaaff",
   "metadata": {},
   "source": [
    " defining second derivative function for f : estimataion using central fisrt derivative value"
   ]
  },
  {
   "cell_type": "code",
   "execution_count": 11,
   "id": "46dd22e2",
   "metadata": {},
   "outputs": [],
   "source": [
    "def estimation_f_2_f(x, h):\n",
    "    return (forward_diff(x + h, h) - forward_diff(x, h)) / h"
   ]
  },
  {
   "cell_type": "markdown",
   "id": "34b3269f",
   "metadata": {},
   "source": [
    "defining second derivative function for f : estimataion using forward fisrt derivative value"
   ]
  },
  {
   "cell_type": "code",
   "execution_count": 12,
   "id": "d42a5c06",
   "metadata": {},
   "outputs": [
    {
     "name": "stdout",
     "output_type": "stream",
     "text": [
      "real value :  2.5147394837903327\n",
      "\n",
      "h =  1\n",
      "estimated value is :  1.1120694896994754\n",
      "second derivative error :  1.4026699940908574\n",
      "\n",
      "h =  0.5\n",
      "estimated value is :  2.0772034220299744\n",
      "second derivative error :  0.4375360617603583\n",
      "ratio :  0.5353686008338513\n",
      "\n",
      "h =  0.25\n",
      "estimated value is :  2.399049228030039\n",
      "second derivative error :  0.11569025576029368\n",
      "ratio :  0.8658444344369098\n",
      "\n",
      "h =  0.125\n",
      "estimated value is :  2.485407672883049\n",
      "second derivative error :  0.02933181090728354\n",
      "ratio :  0.9652538109561579\n",
      "\n",
      "h =  0.0625\n",
      "estimated value is :  2.5073807112137416\n",
      "second derivative error :  0.007358772576591122\n",
      "ratio :  0.9912366565506296\n",
      "\n"
     ]
    }
   ],
   "source": [
    "h = 1\n",
    "first = True\n",
    "real = f_2(x)\n",
    "error_f_2s = [0, 0, 0, 0, 0]\n",
    "error_f_2_cs = [0, 0, 0, 0, 0]\n",
    "error_f_2_fs = [0, 0, 0, 0, 0]\n",
    "print('real value : ', real)\n",
    "print()\n",
    "for i in range(5):\n",
    "    est_f_2 = estimation_f_2(x, h)\n",
    "    est_f_2_c = estimation_f_2_c(x, h)\n",
    "    est_f_2_f = estimation_f_2_f(x, h)\n",
    "    \n",
    "    error_f_2 = abs(est_f_2 - real)\n",
    "    \n",
    "    print('h = ', h)\n",
    "    print('estimated value is : ', est_f_2)\n",
    "    print('second derivative error : ', error_f_2)\n",
    "    if not first:\n",
    "        ratio = prev_est / est_f_2\n",
    "        print('ratio : ', ratio)\n",
    "    print()\n",
    "    error_f_2s[i] = error_f_2\n",
    "    error_f_2_fs[i] = abs(est_f_2_f - real)\n",
    "    error_f_2_cs[i] = abs(est_f_2_c - real)\n",
    "    prev_est = est_f_2\n",
    "    first = False\n",
    "    h = h / 2"
   ]
  },
  {
   "cell_type": "markdown",
   "id": "a57ab5b1",
   "metadata": {},
   "source": [
    "testing the output of second derivative estimation, error, and ratio with each different h "
   ]
  },
  {
   "cell_type": "code",
   "execution_count": 13,
   "id": "968e928e",
   "metadata": {
    "scrolled": false
   },
   "outputs": [
    {
     "data": {
      "image/png": "[encoded data removed]",
      "text/plain": [
       "<Figure size 640x480 with 1 Axes>"
      ]
     },
     "metadata": {},
     "output_type": "display_data"
    }
   ],
   "source": [
    "plt.scatter(hs, error_f_2_fs, c='b', marker='x', label='forward')\n",
    "plt.scatter(hs, error_f_2_cs, c='r', marker='s', label='central')\n",
    "plt.scatter(hs, error_f_2s, c='g', marker='o', label='real')\n",
    "plt.ylabel('error')\n",
    "plt.xlabel('h')\n",
    "plt.legend(loc='upper left')\n",
    "plt.show()"
   ]
  },
  {
   "cell_type": "markdown",
   "id": "247be94a",
   "metadata": {},
   "source": [
    "plotting the output with three ways of estimating "
   ]
  },
  {
   "cell_type": "markdown",
   "id": "fb5c6f69",
   "metadata": {},
   "source": [
    "## Conclusion for this problem\n",
    "from the given errors for each method we can see that the error decreases when h is smaller and central method's  error is closer to the real error than the forward method"
   ]
  },
  {
   "cell_type": "markdown",
   "id": "8ff08b0b",
   "metadata": {},
   "source": [
    "## Problem 3 : Differential Equation"
   ]
  },
  {
   "cell_type": "markdown",
   "id": "b21ec8b4",
   "metadata": {},
   "source": [
    "we have a bar which is pieced into five parts\n",
    "<br>\n",
    "each $x_i$ represents one piece and each $y_i$ represents the temprature in that area\n",
    "<br>\n",
    "our goal is to find the value of $y_1, y_2 and y_3$ with three differential equations which can be written as:\n",
    "    <br>\n",
    "    second derivative of y : $(y_i+1 - 2y + y_i-1) / h^2\n",
    "    $<br>\n",
    "    first derivative of y : $(y_i+1 - y_i-1) / 2h\n",
    "    $<br>\n",
    "    while $y_0 = 20$ and $y_4 = 25$"
   ]
  },
  {
   "cell_type": "code",
   "execution_count": 14,
   "id": "778ac5c0",
   "metadata": {},
   "outputs": [
    {
     "name": "stdout",
     "output_type": "stream",
     "text": [
      "{y_1: 35.1276209894460, y_2: 43.2030349106324, y_3: 40.4382822379196}\n",
      "{y_1: 23.3096091880197, y_2: 25.4010270204748, y_3: 26.0201205651547}\n",
      "{y_1: 21.6884809524360, y_2: 23.1040494436209, y_3: 24.2123894252920}\n",
      "{y_1: 21.3413593474799, y_2: 22.6242230730354, y_3: 23.8425311505773}\n",
      "{y_1: 21.2647693807503, y_2: 22.5197068199849, y_3: 23.7635660481617}\n",
      "{y_1: 21.2497177305261, y_2: 22.4994021440137, y_3: 23.7487729039090}\n",
      "{y_1: 21.2479454679273, y_2: 22.4971008786390, y_3: 23.7473999180893}\n",
      "{y_1: 21.2484945423663, y_2: 22.4979015967953, y_3: 23.7482050480773}\n",
      "{y_1: 21.2491277268356, y_2: 22.4987887154817, y_3: 23.7489789945632}\n",
      "{y_1: 21.2495339767666, y_2: 22.4993538515445, y_3: 23.7494586386382}\n"
     ]
    }
   ],
   "source": [
    "y_0, y_1, y_2, y_3, y_4 = sp.symbols('y_0 y_1 y_2 y_3 y_4')\n",
    "\n",
    "h = 0.5\n",
    "\n",
    "x_0 = 0\n",
    "x_1 = 0.25\n",
    "x_2 = 0.50\n",
    "x_3 = 0.75\n",
    "x_4 = 1\n",
    "\n",
    "y_0 = 20\n",
    "y_4 = 25\n",
    "\n",
    "for i in range(10):\n",
    "    eq1 = sp.Eq(((y_2 - 2 * y_1 + y_0) / (h ** 2)) - (x_1 * (y_2 - y_0) / (2 * h)) + y_1, math.sqrt(1.25))\n",
    "    eq2 = sp.Eq(((y_3 - 2 * y_2 + y_1) / (h ** 2)) - (x_2 * (y_3 - y_2) / (2 * h)) + y_2, math.sqrt(1.50))\n",
    "    eq3 = sp.Eq(((y_4 - 2 * y_3 + y_2) / (h ** 2)) - (x_3 * (y_4 - y_3) / (2 * h)) + y_3, math.sqrt(1.75))\n",
    "    sol = sp.solve((eq1, eq2, eq3), (y_1, y_2, y_3))\n",
    "    print(sol)\n",
    "    h = h / 2"
   ]
  },
  {
   "cell_type": "markdown",
   "id": "26be96ef",
   "metadata": {},
   "source": [
    "by using 10 different values for h , each step more precise , we  calculate the output"
   ]
  },
  {
   "cell_type": "markdown",
   "id": "38f5cd9e",
   "metadata": {},
   "source": [
    "# Sympy"
   ]
  },
  {
   "cell_type": "markdown",
   "id": "5c4d2857",
   "metadata": {},
   "source": [
    "## problem 1 : Symbolic Differentiation "
   ]
  },
  {
   "cell_type": "markdown",
   "id": "044936b2",
   "metadata": {},
   "source": [
    "Finding derivative of f, g and h"
   ]
  },
  {
   "cell_type": "markdown",
   "id": "dd61ff3f",
   "metadata": {},
   "source": [
    "$Part 1 : f(x) = x ^ 3 - 2x ^ 2 + 5x - 7$"
   ]
  },
  {
   "cell_type": "code",
   "execution_count": 15,
   "id": "a3c264f7",
   "metadata": {},
   "outputs": [
    {
     "data": {
      "text/latex": [
       "$\\displaystyle 3 x^{2} - 4 x + 5$"
      ],
      "text/plain": [
       "3*x**2 - 4*x + 5"
      ]
     },
     "execution_count": 15,
     "metadata": {},
     "output_type": "execute_result"
    }
   ],
   "source": [
    "x = sp.Symbol('x')\n",
    "f = x** 3 - 2 * (x** 2) + 5 * x - 7\n",
    "f.diff(x)"
   ]
  },
  {
   "cell_type": "markdown",
   "id": "c8fa1d94",
   "metadata": {},
   "source": [
    "$Part 2 : g(x) = \\dfrac{1}{(x ^ 2 + 1)}$"
   ]
  },
  {
   "cell_type": "code",
   "execution_count": 16,
   "id": "5be37963",
   "metadata": {},
   "outputs": [
    {
     "data": {
      "text/latex": [
       "$\\displaystyle - \\frac{2 x}{\\left(x^{2} + 1\\right)^{2}}$"
      ],
      "text/plain": [
       "-2*x/(x**2 + 1)**2"
      ]
     },
     "execution_count": 16,
     "metadata": {},
     "output_type": "execute_result"
    }
   ],
   "source": [
    "g = 1 / (x ** 2 + 1)\n",
    "g.diff(x)"
   ]
  },
  {
   "cell_type": "markdown",
   "id": "fe23c66a",
   "metadata": {},
   "source": [
    "$Part 3: h(x) = exp(2x) cos(x)$"
   ]
  },
  {
   "cell_type": "code",
   "execution_count": 17,
   "id": "8ca623d6",
   "metadata": {},
   "outputs": [
    {
     "data": {
      "text/latex": [
       "$\\displaystyle - e^{2 x} \\sin{\\left(x \\right)} + 2 e^{2 x} \\cos{\\left(x \\right)}$"
      ],
      "text/plain": [
       "-exp(2*x)*sin(x) + 2*exp(2*x)*cos(x)"
      ]
     },
     "execution_count": 17,
     "metadata": {},
     "output_type": "execute_result"
    }
   ],
   "source": [
    "h = sp.exp(2 * x) * sp.cos(x)\n",
    "h.diff(x)"
   ]
  },
  {
   "cell_type": "markdown",
   "id": "7cae4300",
   "metadata": {},
   "source": [
    "## Problem 2 : Symbolic Integration"
   ]
  },
  {
   "cell_type": "markdown",
   "id": "cd0c12d8",
   "metadata": {},
   "source": [
    "finding derivative of f, g, h"
   ]
  },
  {
   "cell_type": "markdown",
   "id": "782d9897",
   "metadata": {},
   "source": [
    "$ Part 1: 2x + 5$"
   ]
  },
  {
   "cell_type": "code",
   "execution_count": 18,
   "id": "a9039775",
   "metadata": {},
   "outputs": [
    {
     "data": {
      "text/latex": [
       "$\\displaystyle x^{2} + 5 x$"
      ],
      "text/plain": [
       "x**2 + 5*x"
      ]
     },
     "execution_count": 18,
     "metadata": {},
     "output_type": "execute_result"
    }
   ],
   "source": [
    "sp.integrate(2 * x + 5, x)"
   ]
  },
  {
   "cell_type": "markdown",
   "id": "ca0086dd",
   "metadata": {},
   "source": [
    "$ Part 2 : \\dfrac{1}{(x ^ 2 + 1)}$"
   ]
  },
  {
   "cell_type": "code",
   "execution_count": 19,
   "id": "dbdca05b",
   "metadata": {},
   "outputs": [
    {
     "data": {
      "text/latex": [
       "$\\displaystyle \\operatorname{atan}{\\left(x \\right)}$"
      ],
      "text/plain": [
       "atan(x)"
      ]
     },
     "execution_count": 19,
     "metadata": {},
     "output_type": "execute_result"
    }
   ],
   "source": [
    "sp.integrate(1 / ( x ** 2 + 1), x)"
   ]
  },
  {
   "cell_type": "markdown",
   "id": "e93fd305",
   "metadata": {},
   "source": [
    "$ Part 3 : \\dfrac{x ^ 3}{3} − 2x ^ 2 + 5x − 7$"
   ]
  },
  {
   "cell_type": "code",
   "execution_count": 20,
   "id": "d58cb52b",
   "metadata": {},
   "outputs": [
    {
     "data": {
      "text/latex": [
       "$\\displaystyle \\frac{x^{4}}{12} - \\frac{2 x^{3}}{3} + \\frac{5 x^{2}}{2} - 7 x$"
      ],
      "text/plain": [
       "x**4/12 - 2*x**3/3 + 5*x**2/2 - 7*x"
      ]
     },
     "execution_count": 20,
     "metadata": {},
     "output_type": "execute_result"
    }
   ],
   "source": [
    "sp.integrate(x ** 3 / 3 - 2 * x ** 2 + 5 * x - 7, x)"
   ]
  },
  {
   "cell_type": "markdown",
   "id": "12840b98",
   "metadata": {},
   "source": [
    "## Problem 3 : Solving Equations"
   ]
  },
  {
   "cell_type": "markdown",
   "id": "f4882686",
   "metadata": {},
   "source": [
    "$ Part 1 : x ^ 2 - 3x + 2 = 0$"
   ]
  },
  {
   "cell_type": "code",
   "execution_count": 21,
   "id": "501fdccf",
   "metadata": {},
   "outputs": [
    {
     "data": {
      "text/plain": [
       "[1, 2]"
      ]
     },
     "execution_count": 21,
     "metadata": {},
     "output_type": "execute_result"
    }
   ],
   "source": [
    "eq = sp.Eq(x**2 - 3*x + 2, 0)\n",
    "sol = sp.solve(eq, x)\n",
    "sol"
   ]
  },
  {
   "cell_type": "markdown",
   "id": "86ba2d96",
   "metadata": {},
   "source": [
    "$Part 2 : e ^ x + x - 1 = 0$"
   ]
  },
  {
   "cell_type": "code",
   "execution_count": 22,
   "id": "72fd3d5c",
   "metadata": {},
   "outputs": [
    {
     "data": {
      "text/plain": [
       "[0]"
      ]
     },
     "execution_count": 22,
     "metadata": {},
     "output_type": "execute_result"
    }
   ],
   "source": [
    "eq = sp.Eq(sp.exp(x) + x - 1, 0)\n",
    "sol = sp.solve(eq, x)\n",
    "sol"
   ]
  },
  {
   "cell_type": "markdown",
   "id": "bc280343",
   "metadata": {},
   "source": [
    "$Part3 : cos(x) = \\dfrac{1}{2}$"
   ]
  },
  {
   "cell_type": "code",
   "execution_count": 23,
   "id": "77ea3484",
   "metadata": {},
   "outputs": [
    {
     "data": {
      "text/plain": [
       "[1.04719755119660, 5.23598775598299]"
      ]
     },
     "execution_count": 23,
     "metadata": {},
     "output_type": "execute_result"
    }
   ],
   "source": [
    "eq = sp.Eq(sp.cos(x) - 1 / 2, 0)\n",
    "sol = sp.solve(eq, x)\n",
    "sol"
   ]
  },
  {
   "cell_type": "markdown",
   "id": "9831df06",
   "metadata": {},
   "source": [
    "## Problem 4 : Advanced Sympy"
   ]
  },
  {
   "cell_type": "markdown",
   "id": "9bfe897f",
   "metadata": {},
   "source": [
    "calculating 10 first term of fourier serie of a piecewise function"
   ]
  },
  {
   "cell_type": "code",
   "execution_count": 24,
   "id": "07d1799f",
   "metadata": {},
   "outputs": [
    {
     "data": {
      "text/latex": [
       "$\\displaystyle \\frac{2 \\sin{\\left(x \\right)}}{\\pi} + \\frac{2 \\sin{\\left(3 x \\right)}}{3 \\pi} + \\frac{2 \\sin{\\left(5 x \\right)}}{5 \\pi} + \\frac{2 \\sin{\\left(7 x \\right)}}{7 \\pi} + \\frac{2 \\sin{\\left(9 x \\right)}}{9 \\pi} + \\frac{2 \\sin{\\left(11 x \\right)}}{11 \\pi} + \\frac{2 \\sin{\\left(13 x \\right)}}{13 \\pi} + \\frac{2 \\sin{\\left(15 x \\right)}}{15 \\pi} + \\frac{2 \\sin{\\left(17 x \\right)}}{17 \\pi} + \\frac{1}{2}$"
      ],
      "text/plain": [
       "2*sin(x)/pi + 2*sin(3*x)/(3*pi) + 2*sin(5*x)/(5*pi) + 2*sin(7*x)/(7*pi) + 2*sin(9*x)/(9*pi) + 2*sin(11*x)/(11*pi) + 2*sin(13*x)/(13*pi) + 2*sin(15*x)/(15*pi) + 2*sin(17*x)/(17*pi) + 1/2"
      ]
     },
     "execution_count": 24,
     "metadata": {},
     "output_type": "execute_result"
    }
   ],
   "source": [
    "x = sp.symbols('x')\n",
    "f = sp.Piecewise((1, 0 <= x), (0, x < 0))\n",
    "fourier_series_f = sp.fourier_series(f, (x, -sp.pi, sp.pi))\n",
    "fourier_series_f.truncate(10)"
   ]
  },
  {
   "cell_type": "markdown",
   "id": "82fa616e",
   "metadata": {},
   "source": [
    "## Problem 5 : Velocity and Acceleration"
   ]
  },
  {
   "cell_type": "markdown",
   "id": "e883b839",
   "metadata": {},
   "source": [
    "if the formula of displacement of a particle is $3sin(t) - 4sin(2t)$ find its velocity and its acceleration"
   ]
  },
  {
   "cell_type": "code",
   "execution_count": 25,
   "id": "e85a1d6d",
   "metadata": {},
   "outputs": [
    {
     "data": {
      "text/latex": [
       "$\\displaystyle 3 \\cos{\\left(t \\right)} - 8 \\cos{\\left(2 t \\right)}$"
      ],
      "text/plain": [
       "3*cos(t) - 8*cos(2*t)"
      ]
     },
     "execution_count": 25,
     "metadata": {},
     "output_type": "execute_result"
    }
   ],
   "source": [
    "t = sp.Symbol('t')\n",
    "place = 3 * sp.sin(t) - 4 * sp.sin(2 * t)\n",
    "velocity = place.diff(t)\n",
    "velocity"
   ]
  },
  {
   "cell_type": "markdown",
   "id": "68ecfd54",
   "metadata": {},
   "source": [
    "velocity is the derivative of displacement"
   ]
  },
  {
   "cell_type": "code",
   "execution_count": 26,
   "id": "e111c3dc",
   "metadata": {},
   "outputs": [
    {
     "data": {
      "text/latex": [
       "$\\displaystyle - 3 \\sin{\\left(t \\right)} + 16 \\sin{\\left(2 t \\right)}$"
      ],
      "text/plain": [
       "-3*sin(t) + 16*sin(2*t)"
      ]
     },
     "execution_count": 26,
     "metadata": {},
     "output_type": "execute_result"
    }
   ],
   "source": [
    "accel = velocity.diff(t)\n",
    "accel"
   ]
  },
  {
   "cell_type": "markdown",
   "id": "0124f140",
   "metadata": {},
   "source": [
    "acceleration is the derivative of velocity"
   ]
  },
  {
   "cell_type": "markdown",
   "id": "9b9ea30f",
   "metadata": {},
   "source": [
    "## Numpy And Pandas"
   ]
  },
  {
   "cell_type": "markdown",
   "id": "38cac912",
   "metadata": {},
   "source": [
    " ### Problem 1 : Numpy"
   ]
  },
  {
   "cell_type": "markdown",
   "id": "817a32f2",
   "metadata": {},
   "source": [
    "Part 1 : load dataset into numpy array"
   ]
  },
  {
   "cell_type": "code",
   "execution_count": 30,
   "id": "813ff646",
   "metadata": {},
   "outputs": [],
   "source": [
    "import numpy as np"
   ]
  },
  {
   "cell_type": "code",
   "execution_count": 31,
   "id": "3ff0ad61",
   "metadata": {},
   "outputs": [
    {
     "ename": "OSError",
     "evalue": "tempratures.csv not found.",
     "output_type": "error",
     "traceback": [
      "\u001b[1;31m---------------------------------------------------------------------------\u001b[0m",
      "\u001b[1;31mOSError\u001b[0m                                   Traceback (most recent call last)",
      "\u001b[1;32m~\\AppData\\Local\\Temp\\ipykernel_10668\\2862869977.py\u001b[0m in \u001b[0;36m<module>\u001b[1;34m\u001b[0m\n\u001b[1;32m----> 1\u001b[1;33m \u001b[0mtmp_data\u001b[0m \u001b[1;33m=\u001b[0m \u001b[0mnp\u001b[0m\u001b[1;33m.\u001b[0m\u001b[0mloadtxt\u001b[0m\u001b[1;33m(\u001b[0m\u001b[1;34m'tempratures.csv'\u001b[0m\u001b[1;33m,\u001b[0m \u001b[0mdelimiter\u001b[0m\u001b[1;33m=\u001b[0m\u001b[1;34m','\u001b[0m\u001b[1;33m,\u001b[0m \u001b[0mskiprows\u001b[0m\u001b[1;33m=\u001b[0m\u001b[1;36m0\u001b[0m\u001b[1;33m,\u001b[0m \u001b[0mdtype\u001b[0m\u001b[1;33m=\u001b[0m\u001b[0mstr\u001b[0m\u001b[1;33m)\u001b[0m\u001b[1;33m\u001b[0m\u001b[1;33m\u001b[0m\u001b[0m\n\u001b[0m\u001b[0;32m      2\u001b[0m \u001b[0mtmp_data\u001b[0m\u001b[1;33m\u001b[0m\u001b[1;33m\u001b[0m\u001b[0m\n",
      "\u001b[1;32m~\\anaconda3\\lib\\site-packages\\numpy\\lib\\npyio.py\u001b[0m in \u001b[0;36mloadtxt\u001b[1;34m(fname, dtype, comments, delimiter, converters, skiprows, usecols, unpack, ndmin, encoding, max_rows, like)\u001b[0m\n\u001b[0;32m   1065\u001b[0m             \u001b[0mfname\u001b[0m \u001b[1;33m=\u001b[0m \u001b[0mos_fspath\u001b[0m\u001b[1;33m(\u001b[0m\u001b[0mfname\u001b[0m\u001b[1;33m)\u001b[0m\u001b[1;33m\u001b[0m\u001b[1;33m\u001b[0m\u001b[0m\n\u001b[0;32m   1066\u001b[0m         \u001b[1;32mif\u001b[0m \u001b[0m_is_string_like\u001b[0m\u001b[1;33m(\u001b[0m\u001b[0mfname\u001b[0m\u001b[1;33m)\u001b[0m\u001b[1;33m:\u001b[0m\u001b[1;33m\u001b[0m\u001b[1;33m\u001b[0m\u001b[0m\n\u001b[1;32m-> 1067\u001b[1;33m             \u001b[0mfh\u001b[0m \u001b[1;33m=\u001b[0m \u001b[0mnp\u001b[0m\u001b[1;33m.\u001b[0m\u001b[0mlib\u001b[0m\u001b[1;33m.\u001b[0m\u001b[0m_datasource\u001b[0m\u001b[1;33m.\u001b[0m\u001b[0mopen\u001b[0m\u001b[1;33m(\u001b[0m\u001b[0mfname\u001b[0m\u001b[1;33m,\u001b[0m \u001b[1;34m'rt'\u001b[0m\u001b[1;33m,\u001b[0m \u001b[0mencoding\u001b[0m\u001b[1;33m=\u001b[0m\u001b[0mencoding\u001b[0m\u001b[1;33m)\u001b[0m\u001b[1;33m\u001b[0m\u001b[1;33m\u001b[0m\u001b[0m\n\u001b[0m\u001b[0;32m   1068\u001b[0m             \u001b[0mfencoding\u001b[0m \u001b[1;33m=\u001b[0m \u001b[0mgetattr\u001b[0m\u001b[1;33m(\u001b[0m\u001b[0mfh\u001b[0m\u001b[1;33m,\u001b[0m \u001b[1;34m'encoding'\u001b[0m\u001b[1;33m,\u001b[0m \u001b[1;34m'latin1'\u001b[0m\u001b[1;33m)\u001b[0m\u001b[1;33m\u001b[0m\u001b[1;33m\u001b[0m\u001b[0m\n\u001b[0;32m   1069\u001b[0m             \u001b[0mfh\u001b[0m \u001b[1;33m=\u001b[0m \u001b[0miter\u001b[0m\u001b[1;33m(\u001b[0m\u001b[0mfh\u001b[0m\u001b[1;33m)\u001b[0m\u001b[1;33m\u001b[0m\u001b[1;33m\u001b[0m\u001b[0m\n",
      "\u001b[1;32m~\\anaconda3\\lib\\site-packages\\numpy\\lib\\_datasource.py\u001b[0m in \u001b[0;36mopen\u001b[1;34m(path, mode, destpath, encoding, newline)\u001b[0m\n\u001b[0;32m    191\u001b[0m \u001b[1;33m\u001b[0m\u001b[0m\n\u001b[0;32m    192\u001b[0m     \u001b[0mds\u001b[0m \u001b[1;33m=\u001b[0m \u001b[0mDataSource\u001b[0m\u001b[1;33m(\u001b[0m\u001b[0mdestpath\u001b[0m\u001b[1;33m)\u001b[0m\u001b[1;33m\u001b[0m\u001b[1;33m\u001b[0m\u001b[0m\n\u001b[1;32m--> 193\u001b[1;33m     \u001b[1;32mreturn\u001b[0m \u001b[0mds\u001b[0m\u001b[1;33m.\u001b[0m\u001b[0mopen\u001b[0m\u001b[1;33m(\u001b[0m\u001b[0mpath\u001b[0m\u001b[1;33m,\u001b[0m \u001b[0mmode\u001b[0m\u001b[1;33m,\u001b[0m \u001b[0mencoding\u001b[0m\u001b[1;33m=\u001b[0m\u001b[0mencoding\u001b[0m\u001b[1;33m,\u001b[0m \u001b[0mnewline\u001b[0m\u001b[1;33m=\u001b[0m\u001b[0mnewline\u001b[0m\u001b[1;33m)\u001b[0m\u001b[1;33m\u001b[0m\u001b[1;33m\u001b[0m\u001b[0m\n\u001b[0m\u001b[0;32m    194\u001b[0m \u001b[1;33m\u001b[0m\u001b[0m\n\u001b[0;32m    195\u001b[0m \u001b[1;33m\u001b[0m\u001b[0m\n",
      "\u001b[1;32m~\\anaconda3\\lib\\site-packages\\numpy\\lib\\_datasource.py\u001b[0m in \u001b[0;36mopen\u001b[1;34m(self, path, mode, encoding, newline)\u001b[0m\n\u001b[0;32m    531\u001b[0m                                       encoding=encoding, newline=newline)\n\u001b[0;32m    532\u001b[0m         \u001b[1;32melse\u001b[0m\u001b[1;33m:\u001b[0m\u001b[1;33m\u001b[0m\u001b[1;33m\u001b[0m\u001b[0m\n\u001b[1;32m--> 533\u001b[1;33m             \u001b[1;32mraise\u001b[0m \u001b[0mIOError\u001b[0m\u001b[1;33m(\u001b[0m\u001b[1;34m\"%s not found.\"\u001b[0m \u001b[1;33m%\u001b[0m \u001b[0mpath\u001b[0m\u001b[1;33m)\u001b[0m\u001b[1;33m\u001b[0m\u001b[1;33m\u001b[0m\u001b[0m\n\u001b[0m\u001b[0;32m    534\u001b[0m \u001b[1;33m\u001b[0m\u001b[0m\n\u001b[0;32m    535\u001b[0m \u001b[1;33m\u001b[0m\u001b[0m\n",
      "\u001b[1;31mOSError\u001b[0m: tempratures.csv not found."
     ]
    }
   ],
   "source": [
    "tmp_data = np.loadtxt('tempratures.csv', delimiter=',', skiprows=0, dtype=str)\n",
    "tmp_data"
   ]
  },
  {
   "cell_type": "markdown",
   "id": "414d0902",
   "metadata": {},
   "source": [
    "loading dataset into a numpy array"
   ]
  },
  {
   "cell_type": "code",
   "execution_count": null,
   "id": "2f36cd6b",
   "metadata": {},
   "outputs": [],
   "source": [
    "tmp_data.shape"
   ]
  },
  {
   "cell_type": "markdown",
   "id": "88902752",
   "metadata": {},
   "source": [
    "calculating the shape of the array using .shape method"
   ]
  },
  {
   "cell_type": "code",
   "execution_count": null,
   "id": "bd3a9ea9",
   "metadata": {},
   "outputs": [],
   "source": [
    "fltr = np.asarray(['Miami'])\n",
    "miami = tmp_data[np.in1d(tmp_data[:, 1], fltr)]\n",
    "print(miami)\n",
    "miami_tmp = miami[:, 2].astype('float')\n",
    "print('mean of miami city :', miami_tmp.mean())\n",
    "print('max of miami city :', miami_tmp.max())"
   ]
  },
  {
   "cell_type": "markdown",
   "id": "b533492f",
   "metadata": {},
   "source": [
    "filtering miami dataset and extracting temperatures to use mean and max method for it."
   ]
  },
  {
   "cell_type": "code",
   "execution_count": null,
   "id": "4ffa7e4e",
   "metadata": {},
   "outputs": [],
   "source": [
    "fltr = np.asarray(['New York'])\n",
    "new_york = tmp_data[np.in1d(tmp_data[:, 1], fltr)]\n",
    "print(new_york)\n",
    "new_york_tmp = new_york[:, 2].astype('float')\n",
    "print('mean of newyork city :', new_york_tmp.mean())\n",
    "print('max of newyork city :', new_york_tmp.max())"
   ]
  },
  {
   "cell_type": "markdown",
   "id": "87313116",
   "metadata": {},
   "source": [
    "filtering newyork dataset and extracting temperatures to use mean and max method for it."
   ]
  },
  {
   "cell_type": "code",
   "execution_count": 29,
   "id": "499bd323",
   "metadata": {},
   "outputs": [
    {
     "ename": "NameError",
     "evalue": "name 'tmp_data' is not defined",
     "output_type": "error",
     "traceback": [
      "\u001b[1;31m---------------------------------------------------------------------------\u001b[0m",
      "\u001b[1;31mNameError\u001b[0m                                 Traceback (most recent call last)",
      "\u001b[1;32m~\\AppData\\Local\\Temp\\ipykernel_10668\\2213150222.py\u001b[0m in \u001b[0;36m<module>\u001b[1;34m\u001b[0m\n\u001b[0;32m      1\u001b[0m \u001b[0mfltr\u001b[0m \u001b[1;33m=\u001b[0m \u001b[0mnp\u001b[0m\u001b[1;33m.\u001b[0m\u001b[0masarray\u001b[0m\u001b[1;33m(\u001b[0m\u001b[1;33m[\u001b[0m\u001b[1;34m'Los Angeles'\u001b[0m\u001b[1;33m]\u001b[0m\u001b[1;33m)\u001b[0m\u001b[1;33m\u001b[0m\u001b[1;33m\u001b[0m\u001b[0m\n\u001b[1;32m----> 2\u001b[1;33m \u001b[0mlos_angeles\u001b[0m \u001b[1;33m=\u001b[0m \u001b[0mtmp_data\u001b[0m\u001b[1;33m[\u001b[0m\u001b[0mnp\u001b[0m\u001b[1;33m.\u001b[0m\u001b[0min1d\u001b[0m\u001b[1;33m(\u001b[0m\u001b[0mtmp_data\u001b[0m\u001b[1;33m[\u001b[0m\u001b[1;33m:\u001b[0m\u001b[1;33m,\u001b[0m \u001b[1;36m1\u001b[0m\u001b[1;33m]\u001b[0m\u001b[1;33m,\u001b[0m \u001b[0mfltr\u001b[0m\u001b[1;33m)\u001b[0m\u001b[1;33m]\u001b[0m\u001b[1;33m\u001b[0m\u001b[1;33m\u001b[0m\u001b[0m\n\u001b[0m\u001b[0;32m      3\u001b[0m \u001b[0mprint\u001b[0m\u001b[1;33m(\u001b[0m\u001b[0mlos_angeles\u001b[0m\u001b[1;33m)\u001b[0m\u001b[1;33m\u001b[0m\u001b[1;33m\u001b[0m\u001b[0m\n\u001b[0;32m      4\u001b[0m \u001b[0mlos_angeles_tmp\u001b[0m \u001b[1;33m=\u001b[0m \u001b[0mlos_angeles\u001b[0m\u001b[1;33m[\u001b[0m\u001b[1;33m:\u001b[0m\u001b[1;33m,\u001b[0m \u001b[1;36m2\u001b[0m\u001b[1;33m]\u001b[0m\u001b[1;33m.\u001b[0m\u001b[0mastype\u001b[0m\u001b[1;33m(\u001b[0m\u001b[1;34m'float'\u001b[0m\u001b[1;33m)\u001b[0m\u001b[1;33m\u001b[0m\u001b[1;33m\u001b[0m\u001b[0m\n\u001b[0;32m      5\u001b[0m \u001b[0mprint\u001b[0m\u001b[1;33m(\u001b[0m\u001b[1;34m'mean of los angeles city :'\u001b[0m\u001b[1;33m,\u001b[0m \u001b[0mlos_angeles_tmp\u001b[0m\u001b[1;33m.\u001b[0m\u001b[0mmean\u001b[0m\u001b[1;33m(\u001b[0m\u001b[1;33m)\u001b[0m\u001b[1;33m)\u001b[0m\u001b[1;33m\u001b[0m\u001b[1;33m\u001b[0m\u001b[0m\n",
      "\u001b[1;31mNameError\u001b[0m: name 'tmp_data' is not defined"
     ]
    }
   ],
   "source": [
    "fltr = np.asarray(['Los Angeles'])\n",
    "los_angeles = tmp_data[np.in1d(tmp_data[:, 1], fltr)]\n",
    "print(los_angeles)\n",
    "los_angeles_tmp = los_angeles[:, 2].astype('float')\n",
    "print('mean of los angeles city :', los_angeles_tmp.mean())\n",
    "print('max of los angeles city :', los_angeles_tmp.max())"
   ]
  },
  {
   "cell_type": "markdown",
   "id": "a9ed8966",
   "metadata": {},
   "source": [
    "filtering los angeles dataset and extracting temperatures to use mean and max method for it."
   ]
  },
  {
   "cell_type": "markdown",
   "id": "8da536ac",
   "metadata": {},
   "source": [
    "## Conclusion for this problem\n",
    "from the given data we can see miami has the highest max and mean temprature but newyork has the least max and mean value."
   ]
  },
  {
   "cell_type": "markdown",
   "id": "959b0930",
   "metadata": {},
   "source": [
    "# Problem 2 : Pandas"
   ]
  },
  {
   "cell_type": "markdown",
   "id": "1d3d9a94",
   "metadata": {},
   "source": [
    "Part 1: load csv into dataframe"
   ]
  },
  {
   "cell_type": "code",
   "execution_count": 143,
   "id": "185794bf",
   "metadata": {},
   "outputs": [],
   "source": [
    "import pandas as pd"
   ]
  },
  {
   "cell_type": "code",
   "execution_count": 144,
   "id": "58ccda2a",
   "metadata": {},
   "outputs": [],
   "source": [
    "df = pd.read_csv('tempratures.csv')"
   ]
  },
  {
   "cell_type": "markdown",
   "id": "dd1986c4",
   "metadata": {},
   "source": [
    "reading csv file with .read_csv method from pandas"
   ]
  },
  {
   "cell_type": "code",
   "execution_count": 145,
   "id": "0d480dab",
   "metadata": {},
   "outputs": [
    {
     "data": {
      "text/html": [
       "<div>\n",
       "<style scoped>\n",
       "    .dataframe tbody tr th:only-of-type {\n",
       "        vertical-align: middle;\n",
       "    }\n",
       "\n",
       "    .dataframe tbody tr th {\n",
       "        vertical-align: top;\n",
       "    }\n",
       "\n",
       "    .dataframe thead th {\n",
       "        text-align: right;\n",
       "    }\n",
       "</style>\n",
       "<table border=\"1\" class=\"dataframe\">\n",
       "  <thead>\n",
       "    <tr style=\"text-align: right;\">\n",
       "      <th></th>\n",
       "      <th>date</th>\n",
       "      <th>city</th>\n",
       "      <th>temperature</th>\n",
       "    </tr>\n",
       "  </thead>\n",
       "  <tbody>\n",
       "    <tr>\n",
       "      <th>0</th>\n",
       "      <td>2022-01-01</td>\n",
       "      <td>New York</td>\n",
       "      <td>0.5</td>\n",
       "    </tr>\n",
       "    <tr>\n",
       "      <th>1</th>\n",
       "      <td>2022-01-01</td>\n",
       "      <td>Los Angeles</td>\n",
       "      <td>20.5</td>\n",
       "    </tr>\n",
       "    <tr>\n",
       "      <th>2</th>\n",
       "      <td>2022-01-01</td>\n",
       "      <td>Miami</td>\n",
       "      <td>24.7</td>\n",
       "    </tr>\n",
       "    <tr>\n",
       "      <th>3</th>\n",
       "      <td>2022-01-02</td>\n",
       "      <td>New York</td>\n",
       "      <td>2.3</td>\n",
       "    </tr>\n",
       "    <tr>\n",
       "      <th>4</th>\n",
       "      <td>2022-01-02</td>\n",
       "      <td>Los Angeles</td>\n",
       "      <td>18.4</td>\n",
       "    </tr>\n",
       "    <tr>\n",
       "      <th>5</th>\n",
       "      <td>2022-01-02</td>\n",
       "      <td>Miami</td>\n",
       "      <td>22.9</td>\n",
       "    </tr>\n",
       "    <tr>\n",
       "      <th>6</th>\n",
       "      <td>2022-01-03</td>\n",
       "      <td>New York</td>\n",
       "      <td>4.8</td>\n",
       "    </tr>\n",
       "    <tr>\n",
       "      <th>7</th>\n",
       "      <td>2022-01-03</td>\n",
       "      <td>Los Angeles</td>\n",
       "      <td>15.9</td>\n",
       "    </tr>\n",
       "    <tr>\n",
       "      <th>8</th>\n",
       "      <td>2022-01-03</td>\n",
       "      <td>Miami</td>\n",
       "      <td>21.2</td>\n",
       "    </tr>\n",
       "    <tr>\n",
       "      <th>9</th>\n",
       "      <td>2022-01-04</td>\n",
       "      <td>New York</td>\n",
       "      <td>3.2</td>\n",
       "    </tr>\n",
       "  </tbody>\n",
       "</table>\n",
       "</div>"
      ],
      "text/plain": [
       "         date         city  temperature\n",
       "0  2022-01-01     New York          0.5\n",
       "1  2022-01-01  Los Angeles         20.5\n",
       "2  2022-01-01        Miami         24.7\n",
       "3  2022-01-02     New York          2.3\n",
       "4  2022-01-02  Los Angeles         18.4\n",
       "5  2022-01-02        Miami         22.9\n",
       "6  2022-01-03     New York          4.8\n",
       "7  2022-01-03  Los Angeles         15.9\n",
       "8  2022-01-03        Miami         21.2\n",
       "9  2022-01-04     New York          3.2"
      ]
     },
     "execution_count": 145,
     "metadata": {},
     "output_type": "execute_result"
    }
   ],
   "source": [
    "df.head(10)"
   ]
  },
  {
   "cell_type": "code",
   "execution_count": 146,
   "id": "50bea3e8",
   "metadata": {},
   "outputs": [
    {
     "data": {
      "text/html": [
       "<div>\n",
       "<style scoped>\n",
       "    .dataframe tbody tr th:only-of-type {\n",
       "        vertical-align: middle;\n",
       "    }\n",
       "\n",
       "    .dataframe tbody tr th {\n",
       "        vertical-align: top;\n",
       "    }\n",
       "\n",
       "    .dataframe thead th {\n",
       "        text-align: right;\n",
       "    }\n",
       "</style>\n",
       "<table border=\"1\" class=\"dataframe\">\n",
       "  <thead>\n",
       "    <tr style=\"text-align: right;\">\n",
       "      <th></th>\n",
       "      <th>temperature</th>\n",
       "    </tr>\n",
       "  </thead>\n",
       "  <tbody>\n",
       "    <tr>\n",
       "      <th>count</th>\n",
       "      <td>51.000000</td>\n",
       "    </tr>\n",
       "    <tr>\n",
       "      <th>mean</th>\n",
       "      <td>14.435294</td>\n",
       "    </tr>\n",
       "    <tr>\n",
       "      <th>std</th>\n",
       "      <td>10.571714</td>\n",
       "    </tr>\n",
       "    <tr>\n",
       "      <th>min</th>\n",
       "      <td>-7.300000</td>\n",
       "    </tr>\n",
       "    <tr>\n",
       "      <th>25%</th>\n",
       "      <td>2.750000</td>\n",
       "    </tr>\n",
       "    <tr>\n",
       "      <th>50%</th>\n",
       "      <td>20.100000</td>\n",
       "    </tr>\n",
       "    <tr>\n",
       "      <th>75%</th>\n",
       "      <td>22.500000</td>\n",
       "    </tr>\n",
       "    <tr>\n",
       "      <th>max</th>\n",
       "      <td>25.800000</td>\n",
       "    </tr>\n",
       "  </tbody>\n",
       "</table>\n",
       "</div>"
      ],
      "text/plain": [
       "       temperature\n",
       "count    51.000000\n",
       "mean     14.435294\n",
       "std      10.571714\n",
       "min      -7.300000\n",
       "25%       2.750000\n",
       "50%      20.100000\n",
       "75%      22.500000\n",
       "max      25.800000"
      ]
     },
     "execution_count": 146,
     "metadata": {},
     "output_type": "execute_result"
    }
   ],
   "source": [
    "df.describe()"
   ]
  },
  {
   "cell_type": "code",
   "execution_count": 147,
   "id": "8fd12ce9",
   "metadata": {},
   "outputs": [
    {
     "data": {
      "text/plain": [
       "(51, 3)"
      ]
     },
     "execution_count": 147,
     "metadata": {},
     "output_type": "execute_result"
    }
   ],
   "source": [
    "df.shape"
   ]
  },
  {
   "cell_type": "markdown",
   "id": "438fe0c3",
   "metadata": {},
   "source": [
    "calculating the shape of the array using .shape method"
   ]
  },
  {
   "cell_type": "markdown",
   "id": "0937f0ef",
   "metadata": {},
   "source": [
    "Part 2 : calculating the median of data"
   ]
  },
  {
   "cell_type": "code",
   "execution_count": 148,
   "id": "754ab104",
   "metadata": {},
   "outputs": [
    {
     "data": {
      "text/html": [
       "<div>\n",
       "<style scoped>\n",
       "    .dataframe tbody tr th:only-of-type {\n",
       "        vertical-align: middle;\n",
       "    }\n",
       "\n",
       "    .dataframe tbody tr th {\n",
       "        vertical-align: top;\n",
       "    }\n",
       "\n",
       "    .dataframe thead th {\n",
       "        text-align: right;\n",
       "    }\n",
       "</style>\n",
       "<table border=\"1\" class=\"dataframe\">\n",
       "  <thead>\n",
       "    <tr style=\"text-align: right;\">\n",
       "      <th></th>\n",
       "      <th>temperature</th>\n",
       "    </tr>\n",
       "    <tr>\n",
       "      <th>city</th>\n",
       "      <th></th>\n",
       "    </tr>\n",
       "  </thead>\n",
       "  <tbody>\n",
       "    <tr>\n",
       "      <th>Los Angeles</th>\n",
       "      <td>20.5</td>\n",
       "    </tr>\n",
       "    <tr>\n",
       "      <th>Miami</th>\n",
       "      <td>22.6</td>\n",
       "    </tr>\n",
       "    <tr>\n",
       "      <th>New York</th>\n",
       "      <td>0.5</td>\n",
       "    </tr>\n",
       "  </tbody>\n",
       "</table>\n",
       "</div>"
      ],
      "text/plain": [
       "             temperature\n",
       "city                    \n",
       "Los Angeles         20.5\n",
       "Miami               22.6\n",
       "New York             0.5"
      ]
     },
     "execution_count": 148,
     "metadata": {},
     "output_type": "execute_result"
    }
   ],
   "source": [
    "df_grouped = df.groupby(\"city\").median()\n",
    "df_grouped"
   ]
  },
  {
   "cell_type": "markdown",
   "id": "283931d4",
   "metadata": {},
   "source": [
    "Part 3 : calculating daily, min and max temperature data of each city`m"
   ]
  },
  {
   "cell_type": "code",
   "execution_count": 149,
   "id": "f955b6d5",
   "metadata": {},
   "outputs": [
    {
     "name": "stdout",
     "output_type": "stream",
     "text": [
      "          date   city  temperature\n",
      "2   2022-01-01  Miami         24.7\n",
      "5   2022-01-02  Miami         22.9\n",
      "8   2022-01-03  Miami         21.2\n",
      "11  2022-01-04  Miami         23.5\n",
      "14  2022-01-05  Miami         20.1\n",
      "17  2022-01-06  Miami         25.3\n",
      "20  2022-01-07  Miami         21.8\n",
      "23  2022-01-08  Miami         22.4\n",
      "26  2022-01-09  Miami         20.5\n",
      "29  2022-01-10  Miami         23.1\n",
      "32  2022-01-11  Miami         25.8\n",
      "35  2022-01-12  Miami         22.6\n",
      "38  2022-01-13  Miami         19.7\n",
      "41  2022-01-14  Miami         20.2\n",
      "44  2022-01-15  Miami         21.5\n",
      "47  2022-01-16  Miami         23.9\n",
      "50  2022-01-17  Miami         25.3\n",
      "max temperature of miami city is: 25.8\n",
      "min temperature for miami city is: 19.7\n",
      "max and min difference: 6.100000000000001\n"
     ]
    }
   ],
   "source": [
    "miami = df.loc[(df['city'] == 'Miami')]\n",
    "print(miami)\n",
    "print('max temperature of miami city is:', miami['temperature'].max())\n",
    "print('min temperature for miami city is:', miami['temperature'].min())\n",
    "print('max and min difference:', miami['temperature'].max() - miami['temperature'].min())"
   ]
  },
  {
   "cell_type": "code",
   "execution_count": 150,
   "id": "b1171911",
   "metadata": {},
   "outputs": [
    {
     "name": "stdout",
     "output_type": "stream",
     "text": [
      "          date      city  temperature\n",
      "0   2022-01-01  New York          0.5\n",
      "3   2022-01-02  New York          2.3\n",
      "6   2022-01-03  New York          4.8\n",
      "9   2022-01-04  New York          3.2\n",
      "12  2022-01-05  New York         -1.9\n",
      "15  2022-01-06  New York         -2.1\n",
      "18  2022-01-07  New York          1.3\n",
      "21  2022-01-08  New York          4.2\n",
      "24  2022-01-09  New York          5.8\n",
      "27  2022-01-10  New York         -1.1\n",
      "30  2022-01-11  New York         -4.6\n",
      "33  2022-01-12  New York         -7.3\n",
      "36  2022-01-13  New York         -2.4\n",
      "39  2022-01-14  New York          1.5\n",
      "42  2022-01-15  New York          2.1\n",
      "45  2022-01-16  New York         -0.9\n",
      "48  2022-01-17  New York         -2.7\n",
      "max temperature of new york city is: 5.8\n",
      "min temperature for new york city is: -7.3\n",
      "max and min difference: 13.1\n"
     ]
    }
   ],
   "source": [
    "new_york = df.loc[(df['city'] == 'New York')]\n",
    "print(new_york)\n",
    "print('max temperature of new york city is:', new_york['temperature'].max())\n",
    "print('min temperature for new york city is:', new_york['temperature'].min())\n",
    "print('max and min difference:', new_york['temperature'].max() - new_york['temperature'].min())"
   ]
  },
  {
   "cell_type": "code",
   "execution_count": 151,
   "id": "97b659f1",
   "metadata": {},
   "outputs": [
    {
     "name": "stdout",
     "output_type": "stream",
     "text": [
      "          date         city  temperature\n",
      "1   2022-01-01  Los Angeles         20.5\n",
      "4   2022-01-02  Los Angeles         18.4\n",
      "7   2022-01-03  Los Angeles         15.9\n",
      "10  2022-01-04  Los Angeles         16.1\n",
      "13  2022-01-05  Los Angeles         22.8\n",
      "16  2022-01-06  Los Angeles         23.5\n",
      "19  2022-01-07  Los Angeles         20.3\n",
      "22  2022-01-08  Los Angeles         19.7\n",
      "25  2022-01-09  Los Angeles         18.8\n",
      "28  2022-01-10  Los Angeles         22.1\n",
      "31  2022-01-11  Los Angeles         21.2\n",
      "34  2022-01-12  Los Angeles         24.4\n",
      "37  2022-01-13  Los Angeles         20.1\n",
      "40  2022-01-14  Los Angeles         21.5\n",
      "43  2022-01-15  Los Angeles         18.6\n",
      "46  2022-01-16  Los Angeles         23.8\n",
      "49  2022-01-17  Los Angeles         21.3\n",
      "max temperature of Los Angeles city is: 24.4\n",
      "min temperature for Los Angeles city is: 15.9\n",
      "max and min difference: 8.499999999999998\n"
     ]
    }
   ],
   "source": [
    "los_angeles = df.loc[(df['city'] == 'Los Angeles')]\n",
    "print(los_angeles)\n",
    "print('max temperature of Los Angeles city is:', los_angeles['temperature'].max())\n",
    "print('min temperature for Los Angeles city is:', los_angeles['temperature'].min())\n",
    "print('max and min difference:', los_angeles['temperature'].max() - los_angeles['temperature'].min())"
   ]
  },
  {
   "cell_type": "code",
   "execution_count": 159,
   "id": "04a75658",
   "metadata": {},
   "outputs": [
    {
     "data": {
      "image/png": "[encoded data removed]",
      "text/plain": [
       "<Figure size 640x480 with 1 Axes>"
      ]
     },
     "metadata": {},
     "output_type": "display_data"
    }
   ],
   "source": [
    "plt.scatter(miami['date'], miami['temperature'], c='b', marker='x', label='miami')\n",
    "plt.scatter(new_york['date'], new_york['temperature'], c='r', marker='s', label='new york')\n",
    "plt.scatter(los_angeles['date'], los_angeles['temperature'], c='g', marker='o', label='los angeles')\n",
    "plt.ylabel('temprature')\n",
    "plt.xlabel('date')\n",
    "plt.legend(loc='lower left')\n",
    "plt.show()"
   ]
  },
  {
   "cell_type": "markdown",
   "id": "aa3a5f7d",
   "metadata": {},
   "source": [
    "plotting data from three cities"
   ]
  },
  {
   "cell_type": "markdown",
   "id": "7bed4610",
   "metadata": {},
   "source": [
    "## Conclusion for this problem\n",
    "from the given data we can see miami has the highest max and mean temprature but newyork has the least max and mean value."
   ]
  },
  {
   "cell_type": "markdown",
   "id": "283460a3",
   "metadata": {},
   "source": [
    "## Problem 3 : Bonus Task"
   ]
  },
  {
   "cell_type": "code",
   "execution_count": 153,
   "id": "17c18505",
   "metadata": {},
   "outputs": [
    {
     "data": {
      "text/html": [
       "<div>\n",
       "<style scoped>\n",
       "    .dataframe tbody tr th:only-of-type {\n",
       "        vertical-align: middle;\n",
       "    }\n",
       "\n",
       "    .dataframe tbody tr th {\n",
       "        vertical-align: top;\n",
       "    }\n",
       "\n",
       "    .dataframe thead th {\n",
       "        text-align: right;\n",
       "    }\n",
       "</style>\n",
       "<table border=\"1\" class=\"dataframe\">\n",
       "  <thead>\n",
       "    <tr style=\"text-align: right;\">\n",
       "      <th></th>\n",
       "      <th>date</th>\n",
       "      <th>city</th>\n",
       "      <th>temperature</th>\n",
       "      <th>country</th>\n",
       "      <th>latitude</th>\n",
       "      <th>longitude</th>\n",
       "    </tr>\n",
       "  </thead>\n",
       "  <tbody>\n",
       "    <tr>\n",
       "      <th>0</th>\n",
       "      <td>2022-01-01</td>\n",
       "      <td>New York</td>\n",
       "      <td>0.5</td>\n",
       "      <td>USA</td>\n",
       "      <td>40.7128</td>\n",
       "      <td>-74.006</td>\n",
       "    </tr>\n",
       "    <tr>\n",
       "      <th>1</th>\n",
       "      <td>2022-01-02</td>\n",
       "      <td>New York</td>\n",
       "      <td>2.3</td>\n",
       "      <td>USA</td>\n",
       "      <td>40.7128</td>\n",
       "      <td>-74.006</td>\n",
       "    </tr>\n",
       "    <tr>\n",
       "      <th>2</th>\n",
       "      <td>2022-01-03</td>\n",
       "      <td>New York</td>\n",
       "      <td>4.8</td>\n",
       "      <td>USA</td>\n",
       "      <td>40.7128</td>\n",
       "      <td>-74.006</td>\n",
       "    </tr>\n",
       "    <tr>\n",
       "      <th>3</th>\n",
       "      <td>2022-01-04</td>\n",
       "      <td>New York</td>\n",
       "      <td>3.2</td>\n",
       "      <td>USA</td>\n",
       "      <td>40.7128</td>\n",
       "      <td>-74.006</td>\n",
       "    </tr>\n",
       "    <tr>\n",
       "      <th>4</th>\n",
       "      <td>2022-01-05</td>\n",
       "      <td>New York</td>\n",
       "      <td>-1.9</td>\n",
       "      <td>USA</td>\n",
       "      <td>40.7128</td>\n",
       "      <td>-74.006</td>\n",
       "    </tr>\n",
       "    <tr>\n",
       "      <th>5</th>\n",
       "      <td>2022-01-06</td>\n",
       "      <td>New York</td>\n",
       "      <td>-2.1</td>\n",
       "      <td>USA</td>\n",
       "      <td>40.7128</td>\n",
       "      <td>-74.006</td>\n",
       "    </tr>\n",
       "    <tr>\n",
       "      <th>6</th>\n",
       "      <td>2022-01-07</td>\n",
       "      <td>New York</td>\n",
       "      <td>1.3</td>\n",
       "      <td>USA</td>\n",
       "      <td>40.7128</td>\n",
       "      <td>-74.006</td>\n",
       "    </tr>\n",
       "    <tr>\n",
       "      <th>7</th>\n",
       "      <td>2022-01-08</td>\n",
       "      <td>New York</td>\n",
       "      <td>4.2</td>\n",
       "      <td>USA</td>\n",
       "      <td>40.7128</td>\n",
       "      <td>-74.006</td>\n",
       "    </tr>\n",
       "    <tr>\n",
       "      <th>8</th>\n",
       "      <td>2022-01-09</td>\n",
       "      <td>New York</td>\n",
       "      <td>5.8</td>\n",
       "      <td>USA</td>\n",
       "      <td>40.7128</td>\n",
       "      <td>-74.006</td>\n",
       "    </tr>\n",
       "    <tr>\n",
       "      <th>9</th>\n",
       "      <td>2022-01-10</td>\n",
       "      <td>New York</td>\n",
       "      <td>-1.1</td>\n",
       "      <td>USA</td>\n",
       "      <td>40.7128</td>\n",
       "      <td>-74.006</td>\n",
       "    </tr>\n",
       "  </tbody>\n",
       "</table>\n",
       "</div>"
      ],
      "text/plain": [
       "         date      city  temperature country  latitude  longitude\n",
       "0  2022-01-01  New York          0.5     USA   40.7128    -74.006\n",
       "1  2022-01-02  New York          2.3     USA   40.7128    -74.006\n",
       "2  2022-01-03  New York          4.8     USA   40.7128    -74.006\n",
       "3  2022-01-04  New York          3.2     USA   40.7128    -74.006\n",
       "4  2022-01-05  New York         -1.9     USA   40.7128    -74.006\n",
       "5  2022-01-06  New York         -2.1     USA   40.7128    -74.006\n",
       "6  2022-01-07  New York          1.3     USA   40.7128    -74.006\n",
       "7  2022-01-08  New York          4.2     USA   40.7128    -74.006\n",
       "8  2022-01-09  New York          5.8     USA   40.7128    -74.006\n",
       "9  2022-01-10  New York         -1.1     USA   40.7128    -74.006"
      ]
     },
     "execution_count": 153,
     "metadata": {},
     "output_type": "execute_result"
    }
   ],
   "source": [
    "df1 = pd.read_csv('cities.csv')\n",
    "df_merged = pd.merge(df, df1, on=\"city\")\n",
    "df_merged.head(10)"
   ]
  },
  {
   "cell_type": "markdown",
   "id": "49fde671",
   "metadata": {},
   "source": [
    "# Taylor Series"
   ]
  },
  {
   "cell_type": "markdown",
   "id": "04668342",
   "metadata": {},
   "source": [
    "## Problem 1 : plotting"
   ]
  },
  {
   "cell_type": "markdown",
   "id": "a6b7ac58",
   "metadata": {},
   "source": [
    "### $Part\\ a: sin(x)\\ and\\ x$"
   ]
  },
  {
   "cell_type": "code",
   "execution_count": 32,
   "id": "35aee88f",
   "metadata": {},
   "outputs": [
    {
     "data": {
      "text/plain": [
       "<matplotlib.legend.Legend at 0x1a78d6e8640>"
      ]
     },
     "execution_count": 32,
     "metadata": {},
     "output_type": "execute_result"
    },
    {
     "data": {
      "image/png": "[encoded data removed]",
      "text/plain": [
       "<Figure size 640x480 with 2 Axes>"
      ]
     },
     "metadata": {},
     "output_type": "display_data"
    }
   ],
   "source": [
    "x = np.linspace(-(2 * np.pi), 2 * np.pi, 400)\n",
    "y = np.sin(x)\n",
    "g = x\n",
    "fig, (ax1, ax2) = plt.subplots(2)\n",
    "err = abs(y - g)\n",
    "ax1.set_ylim([-1, 1])\n",
    "ax2.set_ylim([-1, 1])\n",
    "ax1.plot(x, y, color='b', label='sin')\n",
    "ax1.plot(x, g, color='g', label='x')\n",
    "fig.suptitle('g = x')\n",
    "ax2.plot(x, err, color='r', label='error')\n",
    "plt.legend(loc='upper left')"
   ]
  },
  {
   "cell_type": "markdown",
   "id": "d1b0734a",
   "metadata": {},
   "source": [
    "### $Part\\ b: sin(x)\\ and\\ x - \\dfrac{x ^ 3}{3!}$"
   ]
  },
  {
   "cell_type": "code",
   "execution_count": 33,
   "id": "72c92b06",
   "metadata": {},
   "outputs": [
    {
     "data": {
      "text/plain": [
       "<matplotlib.legend.Legend at 0x1a78d88f580>"
      ]
     },
     "execution_count": 33,
     "metadata": {},
     "output_type": "execute_result"
    },
    {
     "data": {
      "image/png": "[encoded data removed]",
      "text/plain": [
       "<Figure size 640x480 with 2 Axes>"
      ]
     },
     "metadata": {},
     "output_type": "display_data"
    }
   ],
   "source": [
    "g = x - x ** 3 / math.factorial(3)\n",
    "fig, (ax1, ax2) = plt.subplots(2)\n",
    "err = abs(y - g)\n",
    "ax1.set_ylim([-1, 1])\n",
    "ax2.set_ylim([-1, 1])\n",
    "ax1.plot(x, y, color='b', label='sin')\n",
    "ax1.plot(x, g, color='g', label='x')\n",
    "ax2.plot(x, err, color='r', label='error')\n",
    "fig.suptitle('g = x - (x^3 / 3!)')\n",
    "plt.legend(loc='upper left')"
   ]
  },
  {
   "cell_type": "markdown",
   "id": "8b56752b",
   "metadata": {},
   "source": [
    "### $Part\\ c: sin(x)\\ and\\ x - \\dfrac{x^3}{3!} + \\dfrac{x^5}{5!} - \\dfrac{x^7}{7!}$"
   ]
  },
  {
   "cell_type": "code",
   "execution_count": 34,
   "id": "58eb9f9f",
   "metadata": {},
   "outputs": [
    {
     "data": {
      "text/plain": [
       "<matplotlib.legend.Legend at 0x1a78d7e71f0>"
      ]
     },
     "execution_count": 34,
     "metadata": {},
     "output_type": "execute_result"
    },
    {
     "data": {
      "image/png": "[encoded data removed]",
      "text/plain": [
       "<Figure size 640x480 with 2 Axes>"
      ]
     },
     "metadata": {},
     "output_type": "display_data"
    }
   ],
   "source": [
    "g = x - x ** 3 / math.factorial(3) + x**5 / math.factorial(5) - x ** 7 / math.factorial(7)\n",
    "fig, (ax1, ax2) = plt.subplots(2)\n",
    "err = abs(y - g)\n",
    "ax1.set_ylim([-1, 1])\n",
    "ax2.set_ylim([-1, 1])\n",
    "ax1.plot(x, y, color='b', label='sin')\n",
    "ax1.plot(x, g, color='g', label='x')\n",
    "ax2.plot(x, err, color='r', label='error')\n",
    "fig.suptitle('g = x - (x^3 / 3!) + (x^5 / 5!) - (x^7 / 7!)')\n",
    "plt.legend(loc='upper left')"
   ]
  },
  {
   "cell_type": "markdown",
   "id": "5b88c367",
   "metadata": {},
   "source": [
    "### $Part\\ d: cos(x)\\ and\\ 1$"
   ]
  },
  {
   "cell_type": "code",
   "execution_count": 35,
   "id": "8ce373eb",
   "metadata": {},
   "outputs": [
    {
     "data": {
      "text/plain": [
       "<matplotlib.legend.Legend at 0x1a78d8e6bb0>"
      ]
     },
     "execution_count": 35,
     "metadata": {},
     "output_type": "execute_result"
    },
    {
     "data": {
      "image/png": "[encoded data removed]",
      "text/plain": [
       "<Figure size 640x480 with 2 Axes>"
      ]
     },
     "metadata": {},
     "output_type": "display_data"
    }
   ],
   "source": [
    "x = np.linspace(-(2 * np.pi), 2 * np.pi, 400)\n",
    "y = np.cos(x)\n",
    "g = [1] * 400\n",
    "fig, (ax1, ax2) = plt.subplots(2)\n",
    "err = abs(y - g)\n",
    "ax1.set_ylim([-1, 2])\n",
    "ax2.set_ylim([-1, 2])\n",
    "ax1.plot(x, y, color='b', label='cos')\n",
    "ax1.plot(x, g, color='g', label='x')\n",
    "fig.suptitle('g = 1')\n",
    "ax2.plot(x, err, color='r', label='error')\n",
    "plt.legend(loc='upper left')"
   ]
  },
  {
   "cell_type": "markdown",
   "id": "26208990",
   "metadata": {},
   "source": [
    "### $Part\\ e: cos(x)\\ and\\ 1 - \\dfrac{x^2}{2!}$"
   ]
  },
  {
   "cell_type": "code",
   "execution_count": 36,
   "id": "62ea9d5a",
   "metadata": {},
   "outputs": [
    {
     "data": {
      "text/plain": [
       "<matplotlib.legend.Legend at 0x1a78d970460>"
      ]
     },
     "execution_count": 36,
     "metadata": {},
     "output_type": "execute_result"
    },
    {
     "data": {
      "image/png": "[encoded data removed]",
      "text/plain": [
       "<Figure size 640x480 with 2 Axes>"
      ]
     },
     "metadata": {},
     "output_type": "display_data"
    }
   ],
   "source": [
    "g = 1 - x ** 2 / math.factorial(2)\n",
    "fig, (ax1, ax2) = plt.subplots(2)\n",
    "err = abs(y - g)\n",
    "ax1.set_ylim([-1, 1])\n",
    "ax2.set_ylim([-1, 2])\n",
    "ax1.plot(x, y, color='b', label='sin')\n",
    "ax1.plot(x, g, color='g', label='x')\n",
    "ax2.plot(x, err, color='r', label='error')\n",
    "fig.suptitle('g = 1 - (x^2/2!)')\n",
    "plt.legend(loc='upper left')"
   ]
  },
  {
   "cell_type": "markdown",
   "id": "6ef7e746",
   "metadata": {},
   "source": [
    "### $Part\\ d: cos(x)\\ and\\ 1 - \\dfrac{x^2}{2!} + \\dfrac{x^4}{4!}$"
   ]
  },
  {
   "cell_type": "code",
   "execution_count": 37,
   "id": "922039f1",
   "metadata": {},
   "outputs": [
    {
     "data": {
      "text/plain": [
       "<matplotlib.legend.Legend at 0x1a78da27d60>"
      ]
     },
     "execution_count": 37,
     "metadata": {},
     "output_type": "execute_result"
    },
    {
     "data": {
      "image/png": "[encoded data removed]",
      "text/plain": [
       "<Figure size 640x480 with 2 Axes>"
      ]
     },
     "metadata": {},
     "output_type": "display_data"
    }
   ],
   "source": [
    "g = 1 - x ** 2 / math.factorial(2) + x ** 4 / math.factorial(4)\n",
    "fig, (ax1, ax2) = plt.subplots(2)\n",
    "err = abs(y - g)\n",
    "ax1.set_ylim([-1, 1])\n",
    "ax2.set_ylim([-1, 2])\n",
    "ax1.plot(x, y, color='b', label='sin')\n",
    "ax1.plot(x, g, color='g', label='x')\n",
    "ax2.plot(x, err, color='r', label='error')\n",
    "fig.suptitle('g = 1 - (x^2/2!) + (x^4/4!)')\n",
    "plt.legend(loc='upper left')"
   ]
  },
  {
   "cell_type": "markdown",
   "id": "4c3f5940",
   "metadata": {},
   "source": [
    "### $Part\\ d: cos(x)\\ and\\ 1 - \\dfrac{x^2}{2!} + \\dfrac{x^4}{4!} - \\dfrac{x^6}{6!}$"
   ]
  },
  {
   "cell_type": "code",
   "execution_count": 38,
   "id": "8b1dbbe8",
   "metadata": {},
   "outputs": [
    {
     "data": {
      "text/plain": [
       "<matplotlib.legend.Legend at 0x1a78daebaf0>"
      ]
     },
     "execution_count": 38,
     "metadata": {},
     "output_type": "execute_result"
    },
    {
     "data": {
      "image/png": "[encoded data removed]",
      "text/plain": [
       "<Figure size 640x480 with 2 Axes>"
      ]
     },
     "metadata": {},
     "output_type": "display_data"
    }
   ],
   "source": [
    "g = 1 - x ** 2 / math.factorial(2) + x ** 4 / math.factorial(4) - x ** 6 / math.factorial(6)\n",
    "fig, (ax1, ax2) = plt.subplots(2)\n",
    "err = abs(y - g)\n",
    "ax1.set_ylim([-1, 1])\n",
    "ax2.set_ylim([-1, 2])\n",
    "ax1.plot(x, y, color='b', label='sin')\n",
    "ax1.plot(x, g, color='g', label='x')\n",
    "ax2.plot(x, err, color='r', label='error')\n",
    "fig.suptitle('g = 1 - (x^2/2!) + (x^4/4!) - (x^6/6!))')\n",
    "plt.legend(loc='upper left')"
   ]
  },
  {
   "cell_type": "markdown",
   "id": "a5844422",
   "metadata": {},
   "source": [
    "## Conclusion for this problem\n",
    "for each one of sin and cos we can see that with longer series of taylor serie the estimation is more accurate in the interval of [-4, 4]. elsewhere the estimation has failed."
   ]
  },
  {
   "cell_type": "markdown",
   "id": "3625851f",
   "metadata": {},
   "source": [
    "## Problem 2: appropiate taylor serie to estimate cos"
   ]
  },
  {
   "cell_type": "markdown",
   "id": "3d6d9825",
   "metadata": {},
   "source": [
    "we should consider a large value for n to make sure that estimation would have less than $\\dfrac{1}{10^7}$ error"
   ]
  },
  {
   "cell_type": "code",
   "execution_count": 151,
   "id": "d93f222b",
   "metadata": {},
   "outputs": [
    {
     "name": "stdout",
     "output_type": "stream",
     "text": [
      "n : 13\n"
     ]
    }
   ],
   "source": [
    "n = sp.symbols('n')\n",
    "x = 2\n",
    "a = 0\n",
    "i = 1\n",
    "loss = 0\n",
    "    \n",
    "for i in range(1, 100):\n",
    "    loss = ((x - a) **i+1) / sp.factorial(i + 1)\n",
    "    if loss <= 10**-7:\n",
    "        print(f\"n : {i}\")\n",
    "        break"
   ]
  },
  {
   "cell_type": "markdown",
   "id": "7e958c54",
   "metadata": {},
   "source": [
    "## Fourier Series"
   ]
  },
  {
   "cell_type": "markdown",
   "id": "c738b6da",
   "metadata": {},
   "source": [
    "using sympy library we calculate fourier series of $x ^ 3$ with n = 2, 5 and 10 and l = 2."
   ]
  },
  {
   "cell_type": "code",
   "execution_count": 75,
   "id": "5a1b4b3d",
   "metadata": {},
   "outputs": [],
   "source": [
    "x = sp.Symbol('x')\n",
    "s = sp.fourier_series(x**3, (x, -2, 2))\n",
    "s1 = s.truncate(n = 2)\n",
    "s2 = s.truncate(n = 5)\n",
    "s3 = s.truncate(n = 10)"
   ]
  },
  {
   "cell_type": "markdown",
   "id": "703de8ff",
   "metadata": {},
   "source": [
    "plotting the real function with all 3 estimations."
   ]
  },
  {
   "cell_type": "code",
   "execution_count": 85,
   "id": "2a4f429c",
   "metadata": {},
   "outputs": [
    {
     "data": {
      "image/png": "[encoded data removed]",
      "text/plain": [
       "<Figure size 640x480 with 1 Axes>"
      ]
     },
     "metadata": {},
     "output_type": "display_data"
    }
   ],
   "source": [
    "p = sp.plot(f, s1, s2, s3, (x, -2, 2), show=False, legend=True)\n",
    "p[0].line_color = (0, 0, 0)\n",
    "p[0].label = '$x ^ 3$'\n",
    "p[1].line_color = (0.7, 0.7, 0.7)\n",
    "p[1].label = 'n = 2'\n",
    "p[2].line_color = 'm'\n",
    "p[2].label = 'n = 5'\n",
    "p[3].line_color = 'g'\n",
    "p[3].label = 'n = 10'\n",
    "p.show()"
   ]
  },
  {
   "cell_type": "markdown",
   "id": "bf44207b",
   "metadata": {},
   "source": [
    "# Significant Figures"
   ]
  },
  {
   "cell_type": "markdown",
   "id": "3da628fb",
   "metadata": {},
   "source": [
    "## First Question"
   ]
  },
  {
   "cell_type": "code",
   "execution_count": 93,
   "id": "25d84aeb",
   "metadata": {},
   "outputs": [],
   "source": [
    "def fk(x1):\n",
    "    return x1 * (math.sqrt(x1 + 1) - math.sqrt(x1))"
   ]
  },
  {
   "cell_type": "code",
   "execution_count": 94,
   "id": "b3b456e5",
   "metadata": {},
   "outputs": [
    {
     "name": "stdout",
     "output_type": "stream",
     "text": [
      "x: 1\n",
      "exact value: 0.41421356237309515\n",
      "approximate: 0.414213562373095\n",
      "exact error: 1.11022302462516e-16\n",
      "app error: 2.68031548330893e-16\n",
      "sum transformation: 9.19738868117237e-17\n",
      "\n",
      "x: 10\n",
      "exact value: 1.5434713018702029\n",
      "approximate: 1.54347130187021\n",
      "exact error: 2.22044604925031e-15\n",
      "app error: 1.43860533497437e-15\n",
      "sum transformation: 6.85438950873786e-15\n",
      "\n",
      "x: 100\n",
      "exact value: 4.987562112088995\n",
      "approximate: 4.98756211208903\n",
      "exact error: 3.19744231092045e-14\n",
      "app error: 6.41083206396648e-15\n",
      "sum transformation: 3.18948842510743e-13\n",
      "\n",
      "x: 1000\n",
      "exact value: 15.807437428957627\n",
      "approximate: 15.8074374289558\n",
      "exact error: 1.80300219199125e-12\n",
      "app error: 1.14060371903692e-13\n",
      "sum transformation: 5.70016886683471e-11\n",
      "\n",
      "x: 10000\n",
      "exact value: 49.99875006248544\n",
      "approximate: 49.9987500624961\n",
      "exact error: 1.06510356090439e-11\n",
      "app error: 2.13026037565597e-13\n",
      "sum transformation: 1.06507693464655e-9\n",
      "\n",
      "x: 100000\n",
      "exact value: 158.1134877255863\n",
      "approximate: 158.113487725688\n",
      "exact error: 1.01550767794834e-10\n",
      "app error: 6.42265054396117e-13\n",
      "sum transformation: 3.21130921545149e-8\n",
      "\n"
     ]
    }
   ],
   "source": [
    "# calculating exact value for earch:\n",
    "x1 = 1\n",
    "x, y = sp.symbols('x y')\n",
    "for i in range(6):\n",
    "    f =  x * (sp.sqrt(x + 1) - sp.sqrt(x))\n",
    "    tay = sp.series(f, x, x1, 2)\n",
    "    tay = tay.removeO()\n",
    "    f_val = fk(x1)\n",
    "    t_val = tay.subs(x, x1).evalf()\n",
    "    \n",
    "    #calcutaing errors\n",
    "    exact_err = abs(f_val - t_val)\n",
    "    app_err = abs(f_val - t_val) / f_val\n",
    "    sum_trans = abs((f_val - t_val) * (f_val + t_val))\n",
    "    \n",
    "    #printing outputs\n",
    "    print('x:', x1)\n",
    "    print('exact value:', f_val)\n",
    "    print('approximate:', t_val)\n",
    "    print('exact error:', exact_err)\n",
    "    print('app error:', app_err)\n",
    "    print('sum transformation:', sum_trans)\n",
    "    print()\n",
    "    x1 = x1 * 10"
   ]
  },
  {
   "cell_type": "markdown",
   "id": "fb797dbb",
   "metadata": {},
   "source": [
    "## Second Question"
   ]
  },
  {
   "cell_type": "markdown",
   "id": "0c15d4ff",
   "metadata": {},
   "source": [
    "### Part a : "
   ]
  },
  {
   "cell_type": "code",
   "execution_count": 59,
   "id": "4b453254",
   "metadata": {},
   "outputs": [
    {
     "name": "stdout",
     "output_type": "stream",
     "text": [
      "sqrt of 2 rounded with 3 precise: 1.414\n",
      "sqrt of 3 rounded with 3 precise: 1.732\n",
      "sqrt of 23 rounded with 3 precise: 4.796\n"
     ]
    }
   ],
   "source": [
    "xs = [2, 3, 23]\n",
    "est = [[0, 0], [0, 0], [0, 0]]\n",
    "for i in range(3):\n",
    "    est[i][0] = round(math.sqrt(xs[i]), 3)\n",
    "    print('sqrt of', xs[i], 'rounded with 3 precise:', est[i][0])"
   ]
  },
  {
   "cell_type": "markdown",
   "id": "797a25a3",
   "metadata": {},
   "source": [
    "### Part b :"
   ]
  },
  {
   "cell_type": "code",
   "execution_count": 60,
   "id": "7ce2c1cf",
   "metadata": {},
   "outputs": [
    {
     "name": "stdout",
     "output_type": "stream",
     "text": [
      "sqrt of 2 rounded with 3 precise: 1.4142\n",
      "sqrt of 3 rounded with 3 precise: 1.7321\n",
      "sqrt of 23 rounded with 3 precise: 4.7958\n"
     ]
    }
   ],
   "source": [
    "for i in range(3):\n",
    "    est[i][1] = round(math.sqrt(xs[i]), 4)\n",
    "    print('sqrt of', xs[i], 'rounded with 3 precise:', est[i][1])"
   ]
  },
  {
   "cell_type": "markdown",
   "id": "9090dc4f",
   "metadata": {},
   "source": [
    "### Part c :"
   ]
  },
  {
   "cell_type": "code",
   "execution_count": 64,
   "id": "0dffee0b",
   "metadata": {
    "scrolled": true
   },
   "outputs": [
    {
     "name": "stdout",
     "output_type": "stream",
     "text": [
      "error with 3 precise: 0.00021356237309522186\n",
      "error with 4 precise: 1.3562373095243885e-05\n",
      "error with 3 precise: 5.0807568877209164e-05\n",
      "error with 4 precise: 4.919243112277982e-05\n",
      "error with 3 precise: 0.0001684766872811494\n",
      "error with 4 precise: 3.152331271927267e-05\n"
     ]
    }
   ],
   "source": [
    "for i in range(3):\n",
    "    err_3 = abs(math.sqrt(xs[i]) - est[i][0])\n",
    "    err_4 = abs(math.sqrt(xs[i]) - est[i][1])\n",
    "    print('error with 3 precise:', err_3)\n",
    "    print('error with 4 precise:', err_4)"
   ]
  },
  {
   "cell_type": "code",
   "execution_count": 71,
   "id": "2d7697d9",
   "metadata": {},
   "outputs": [],
   "source": [
    "def fn(x):\n",
    "    return (1 - math.cos(x)) / x**2"
   ]
  },
  {
   "cell_type": "code",
   "execution_count": 95,
   "id": "ce79ba92",
   "metadata": {},
   "outputs": [
    {
     "name": "stdout",
     "output_type": "stream",
     "text": [
      "x: 1\n",
      "exact value: 0.45969769413186023\n",
      "approximate: 0.459697694131860\n",
      "exact error: 5.55111512312578e-17\n",
      "app error: 1.20755774805638e-16\n",
      "sum transformation: 5.10366964392284e-17\n",
      "\n",
      "x: 0.1\n",
      "exact value: 0.49958347219741783\n",
      "approximate: 0.499583472197429\n",
      "exact error: 1.12132525487141e-14\n",
      "app error: 2.24452031997628e-14\n",
      "sum transformation: 1.12039112858264e-14\n",
      "\n",
      "x: 0.01\n",
      "exact value: 0.4999958333473664\n",
      "approximate: 0.499995833347366\n",
      "exact error: 5.55111512312578e-17\n",
      "app error: 1.11023227652963e-16\n",
      "sum transformation: 5.55106886398889e-17\n",
      "\n",
      "x: 0.001\n",
      "exact value: 0.49999995832550326\n",
      "approximate: 0.499999958325503\n",
      "exact error: 5.55111512312578e-17\n",
      "app error: 1.11022311716114e-16\n",
      "sum transformation: 5.55111466044592e-17\n",
      "\n",
      "x: 0.0001\n",
      "exact value: 0.4999999969612645\n",
      "approximate: 0.499999996961264\n",
      "exact error: 5.55111512312578e-17\n",
      "app error: 1.11022303137250e-16\n",
      "sum transformation: 5.55111508938904e-17\n",
      "\n"
     ]
    }
   ],
   "source": [
    "# calculating exact value for earch:\n",
    "x1 = 1\n",
    "x = sp.symbols('x')\n",
    "f =  (1 - sp.cos(x)) / (x ** 2)\n",
    "for i in range(5):\n",
    "    tay = sp.series(f, x, x1, 5)\n",
    "    tay = tay.removeO()\n",
    "    f_val = fn(x1)\n",
    "    t_val = tay.subs(x, x1).evalf()\n",
    "    \n",
    "    #calcutaing errors\n",
    "    exact_err = abs(f_val - t_val)\n",
    "    app_err = abs(f_val - t_val) / f_val\n",
    "    sum_trans = abs((f_val - t_val) * (f_val + t_val))\n",
    "    \n",
    "    #printing outputs\n",
    "    print('x:', x1)\n",
    "    print('exact value:', f_val)\n",
    "    print('approximate:', t_val)\n",
    "    print('exact error:', exact_err)\n",
    "    print('app error:', app_err)\n",
    "    print('sum transformation:', sum_trans)\n",
    "    print()\n",
    "    x1 = x1 / 10"
   ]
  },
  {
   "cell_type": "markdown",
   "id": "a9d8bd20",
   "metadata": {},
   "source": [
    "# Condition Number"
   ]
  },
  {
   "cell_type": "markdown",
   "id": "eaab8812",
   "metadata": {},
   "source": [
    "### Problem 1 : finding condition numbers for each function in given point."
   ]
  },
  {
   "cell_type": "markdown",
   "id": "2f404387",
   "metadata": {},
   "source": [
    "### $Part\\ a : ln(x),\\ x = 2$"
   ]
  },
  {
   "cell_type": "code",
   "execution_count": 36,
   "id": "409a8006",
   "metadata": {
    "scrolled": true
   },
   "outputs": [
    {
     "data": {
      "text/latex": [
       "$\\displaystyle 1.44269504088896$"
      ],
      "text/plain": [
       "1.44269504088896"
      ]
     },
     "execution_count": 36,
     "metadata": {},
     "output_type": "execute_result"
    }
   ],
   "source": [
    "f = sp.log(x)\n",
    "f1 = f.diff(x) * x / f\n",
    "f1.subs(x, 2).evalf()"
   ]
  },
  {
   "cell_type": "markdown",
   "id": "25da1eae",
   "metadata": {},
   "source": [
    "### $Part\\ b\\ : 5 ^ x,\\ x = 10$"
   ]
  },
  {
   "cell_type": "code",
   "execution_count": 31,
   "id": "d1045711",
   "metadata": {},
   "outputs": [
    {
     "data": {
      "text/latex": [
       "$\\displaystyle 16.094379124341$"
      ],
      "text/plain": [
       "16.0943791243410"
      ]
     },
     "execution_count": 31,
     "metadata": {},
     "output_type": "execute_result"
    }
   ],
   "source": [
    "g = 5 ** x\n",
    "g1 = g.diff(x) * x / g\n",
    "g1.subs(x, 10).evalf()"
   ]
  },
  {
   "cell_type": "markdown",
   "id": "903a0920",
   "metadata": {},
   "source": [
    "### $Part\\ c\\ : sin(x),\\ x = 1$"
   ]
  },
  {
   "cell_type": "code",
   "execution_count": 34,
   "id": "8ceb0ce5",
   "metadata": {},
   "outputs": [
    {
     "data": {
      "text/latex": [
       "$\\displaystyle 0.642092615934331$"
      ],
      "text/plain": [
       "0.642092615934331"
      ]
     },
     "execution_count": 34,
     "metadata": {},
     "output_type": "execute_result"
    }
   ],
   "source": [
    "h = sp.sin(x)\n",
    "h1 = h.diff(x) * x / h\n",
    "h1.subs(x, 1).evalf()"
   ]
  },
  {
   "cell_type": "markdown",
   "id": "28608149",
   "metadata": {},
   "source": [
    "### $Part\\ d\\ : sin(10x),\\ x = 1$"
   ]
  },
  {
   "cell_type": "code",
   "execution_count": 35,
   "id": "a1899708",
   "metadata": {},
   "outputs": [
    {
     "data": {
      "text/latex": [
       "$\\displaystyle 15.4235104535692$"
      ],
      "text/plain": [
       "15.4235104535692"
      ]
     },
     "execution_count": 35,
     "metadata": {},
     "output_type": "execute_result"
    }
   ],
   "source": [
    "t = sp.sin(10 * x)\n",
    "t1 = t.diff(x) * x / t\n",
    "t1.subs(x, 1).evalf()"
   ]
  },
  {
   "cell_type": "markdown",
   "id": "289aad5f",
   "metadata": {},
   "source": [
    "# Stability and root finding"
   ]
  },
  {
   "cell_type": "markdown",
   "id": "d72dd66f",
   "metadata": {},
   "source": [
    "### Question 1:"
   ]
  },
  {
   "cell_type": "markdown",
   "id": "02c45b30",
   "metadata": {},
   "source": [
    "\n",
    "for n = 0 : $x_0 = 1$\n",
    "first algorithm : $f(x_0) = 1$\n",
    "second algorithm : $f'(x_0) = 1$\n",
    "\n",
    "for n = 1 : x_1 = $\\frac{1}{3}$\n",
    "first algorithm : $f(x_1) = 1$\n",
    "second algorithm : $f'(x_1) = 1$\n",
    "\n",
    "if statement is true about n and every number before it when we should prove it for n + 1\n",
    "\n",
    "$x_{n + 1} = \\frac{13}{3}x_n - \\frac{4}{3}x_{n-1} $\n",
    "\n",
    "$x_n = \\frac{1}{3}^n$\n",
    "\n",
    "\n",
    "\n",
    "$\\frac{13}{3}*\\frac{1}{3}^n - \\frac{4}{3} * \\frac{1}{3}^{n-1}$\n",
    "\n",
    "then:\n",
    "\n",
    "$=\\frac{1}{3}^n * (\\frac{13}{3} - 4) = \\frac{1}{3}^n * \\frac{1}{3} = \\frac{1}{3}^{n+1}$"
   ]
  },
  {
   "cell_type": "markdown",
   "id": "0314aba9",
   "metadata": {},
   "source": [
    "### Question 2:"
   ]
  },
  {
   "cell_type": "code",
   "execution_count": 137,
   "id": "734a157c",
   "metadata": {},
   "outputs": [
    {
     "name": "stdout",
     "output_type": "stream",
     "text": [
      "    first_algorithm  second_algorithm\n",
      "0         1.0000000         1.0000000\n",
      "1         0.3333333         0.3333333\n",
      "2         0.1111111         0.1111111\n",
      "3         0.0370370         0.0370370\n",
      "4         0.0123457         0.0123457\n",
      "5         0.0041152         0.0041152\n",
      "6         0.0013717         0.0013717\n",
      "7         0.0004572         0.0004572\n",
      "8         0.0001524         0.0001524\n",
      "9         0.0000508         0.0000508\n",
      "10        0.0000169         0.0000169\n",
      "11        0.0000056         0.0000056\n",
      "12        0.0000019         0.0000019\n",
      "13        0.0000006         0.0000006\n",
      "14        0.0000002         0.0000002\n",
      "15        0.0000001         0.0000001\n",
      "16        0.0000000        -0.0000000\n"
     ]
    }
   ],
   "source": [
    "arr = []\n",
    "temp = [1]\n",
    "arr.append([1])\n",
    "for i in range(16):\n",
    "  val = temp[i] * (1/3)\n",
    "  arr[0].append(val)\n",
    "  temp.append(val)\n",
    "arr.append([1, 1/3])\n",
    "temp = [1, 1/3]\n",
    "\n",
    "for i in range(15):\n",
    "  val = (13/3) * temp[i + 1] - (4/3) * temp[i]\n",
    "  arr[1].append(val)\n",
    "  temp.append(val)\n",
    "df = pd.DataFrame(arr)\n",
    "df = df.T\n",
    "df.columns = ['_first algorithm', '_second algorithm']\n",
    "df.rename(columns={'_first algorithm': 'first_algorithm', '_second algorithm': 'second_algorithm'}, inplace=True)\n",
    "print(df.to_string(float_format='{:.7f}'.format))"
   ]
  },
  {
   "cell_type": "markdown",
   "id": "61b909bd",
   "metadata": {},
   "source": [
    "### Question 3:"
   ]
  },
  {
   "cell_type": "code",
   "execution_count": 138,
   "id": "aaab4f26",
   "metadata": {},
   "outputs": [],
   "source": [
    "from sympy import *\n",
    "def fun(n):\n",
    "  if n == 0:\n",
    "    return(E - 1)\n",
    "  else:\n",
    "    return(E - n * fun(n - 1))"
   ]
  },
  {
   "cell_type": "code",
   "execution_count": 139,
   "id": "356d3293",
   "metadata": {},
   "outputs": [
    {
     "data": {
      "text/html": [
       "<div>\n",
       "<style scoped>\n",
       "    .dataframe tbody tr th:only-of-type {\n",
       "        vertical-align: middle;\n",
       "    }\n",
       "\n",
       "    .dataframe tbody tr th {\n",
       "        vertical-align: top;\n",
       "    }\n",
       "\n",
       "    .dataframe thead th {\n",
       "        text-align: right;\n",
       "    }\n",
       "</style>\n",
       "<table border=\"1\" class=\"dataframe\">\n",
       "  <thead>\n",
       "    <tr style=\"text-align: right;\">\n",
       "      <th></th>\n",
       "      <th>integrals</th>\n",
       "    </tr>\n",
       "  </thead>\n",
       "  <tbody>\n",
       "    <tr>\n",
       "      <th>0</th>\n",
       "      <td>1.7182818</td>\n",
       "    </tr>\n",
       "    <tr>\n",
       "      <th>1</th>\n",
       "      <td>1.00000000000000</td>\n",
       "    </tr>\n",
       "    <tr>\n",
       "      <th>2</th>\n",
       "      <td>0.7182818</td>\n",
       "    </tr>\n",
       "    <tr>\n",
       "      <th>3</th>\n",
       "      <td>0.5634363</td>\n",
       "    </tr>\n",
       "    <tr>\n",
       "      <th>4</th>\n",
       "      <td>0.4645365</td>\n",
       "    </tr>\n",
       "    <tr>\n",
       "      <th>5</th>\n",
       "      <td>0.3955995</td>\n",
       "    </tr>\n",
       "    <tr>\n",
       "      <th>6</th>\n",
       "      <td>0.3446845</td>\n",
       "    </tr>\n",
       "    <tr>\n",
       "      <th>7</th>\n",
       "      <td>0.3054900</td>\n",
       "    </tr>\n",
       "    <tr>\n",
       "      <th>8</th>\n",
       "      <td>0.2743615</td>\n",
       "    </tr>\n",
       "    <tr>\n",
       "      <th>9</th>\n",
       "      <td>0.2490280</td>\n",
       "    </tr>\n",
       "    <tr>\n",
       "      <th>10</th>\n",
       "      <td>0.2280015</td>\n",
       "    </tr>\n",
       "    <tr>\n",
       "      <th>11</th>\n",
       "      <td>0.2102652</td>\n",
       "    </tr>\n",
       "    <tr>\n",
       "      <th>12</th>\n",
       "      <td>0.1950999</td>\n",
       "    </tr>\n",
       "    <tr>\n",
       "      <th>13</th>\n",
       "      <td>0.1819827</td>\n",
       "    </tr>\n",
       "    <tr>\n",
       "      <th>14</th>\n",
       "      <td>0.1705237</td>\n",
       "    </tr>\n",
       "    <tr>\n",
       "      <th>15</th>\n",
       "      <td>0.1604263</td>\n",
       "    </tr>\n",
       "  </tbody>\n",
       "</table>\n",
       "</div>"
      ],
      "text/plain": [
       "           integrals\n",
       "0          1.7182818\n",
       "1   1.00000000000000\n",
       "2          0.7182818\n",
       "3          0.5634363\n",
       "4          0.4645365\n",
       "5          0.3955995\n",
       "6          0.3446845\n",
       "7          0.3054900\n",
       "8          0.2743615\n",
       "9          0.2490280\n",
       "10         0.2280015\n",
       "11         0.2102652\n",
       "12         0.1950999\n",
       "13         0.1819827\n",
       "14         0.1705237\n",
       "15         0.1604263"
      ]
     },
     "execution_count": 139,
     "metadata": {},
     "output_type": "execute_result"
    }
   ],
   "source": [
    "arr = []\n",
    "for i in range(16):\n",
    "  arr.append(fun(i).evalf().round(7))\n",
    "\n",
    "df = pd.DataFrame(arr)\n",
    "df.columns = ['integrals']\n",
    "df"
   ]
  },
  {
   "cell_type": "markdown",
   "id": "612ac2cd",
   "metadata": {},
   "source": [
    "### Question 4:"
   ]
  },
  {
   "cell_type": "code",
   "execution_count": 140,
   "id": "42f0fad3",
   "metadata": {},
   "outputs": [],
   "source": [
    "arr = []"
   ]
  },
  {
   "cell_type": "code",
   "execution_count": 141,
   "id": "817317f6",
   "metadata": {},
   "outputs": [],
   "source": [
    "def bisection(a, b, eq):\n",
    "  threshold = 10\n",
    "  c = 0\n",
    "  x = sp.Symbol('x')\n",
    "  while threshold > 10**-16:\n",
    "    if eq.subs(x, a) == 0:\n",
    "      return a\n",
    "    elif eq.subs(x, b) == 0:\n",
    "      return b\n",
    "    c = (a + b) / 2\n",
    "    threshold = abs(eq.subs(x, c))\n",
    "    if eq.subs(x, c) * eq.subs(x, a) < 0:\n",
    "      b = c\n",
    "    else:\n",
    "      a = c\n",
    "  return c\n",
    "x = sp.Symbol('x')\n",
    "a = bisection(-2, 0, cos(x) + x)\n",
    "\n",
    "arr.append(f'{a:0,.20f}')"
   ]
  },
  {
   "cell_type": "code",
   "execution_count": 142,
   "id": "e69a88a0",
   "metadata": {},
   "outputs": [],
   "source": [
    "def false_position(a, b, eq):\n",
    "  threshold = 10\n",
    "  c = 0\n",
    "  x = sp.Symbol('x')\n",
    "  while threshold > 10**-16:\n",
    "    if eq.subs(x, a) == 0:\n",
    "      return a\n",
    "    elif eq.subs(x, b) == 0:\n",
    "      return b\n",
    "    c = ((a * eq.subs(x, b) - b * eq.subs(x, a))/(eq.subs(x, b) - eq.subs(x, a))).evalf()\n",
    "    threshold = abs(eq.subs(x, c))\n",
    "    if eq.subs(x, c) * eq.subs(x, a) < 0:\n",
    "      b = c\n",
    "    else:\n",
    "      a = c\n",
    "  return c\n",
    "x = sp.Symbol('x')\n",
    "a = false_position(-2, 0, cos(x) + x)\n",
    "\n",
    "arr.append(f'{a:0,.20f}')"
   ]
  },
  {
   "cell_type": "code",
   "execution_count": 143,
   "id": "e7c76d3c",
   "metadata": {},
   "outputs": [],
   "source": [
    "def newton(a, eq):\n",
    "  threshold = 10\n",
    "  x = sp.Symbol('x')\n",
    "  eq_diff = diff(eq, x)\n",
    "  while threshold > 10**-16:\n",
    "    if eq.subs(x, a) == 0:\n",
    "      return a\n",
    "    a = (a - eq.subs(x, a) / eq_diff.subs(x, a)).evalf()\n",
    "    threshold = abs(eq.subs(x, a))\n",
    "  return a\n",
    "x = sp.Symbol('x')\n",
    "a = newton(-0.5, cos(x) + x)\n",
    "\n",
    "arr.append(f'{a:0,.20f}')"
   ]
  },
  {
   "cell_type": "code",
   "execution_count": 144,
   "id": "5f7372e7",
   "metadata": {},
   "outputs": [],
   "source": [
    "def semi_newton(a, a0, eq):\n",
    "  threshold = 10\n",
    "  x = sp.Symbol('x')\n",
    "  eq_diff = diff(eq, x)\n",
    "  while threshold > 10**-16:\n",
    "    if eq.subs(x, a) == 0:\n",
    "      return a\n",
    "    temp = (a - (eq.subs(x, a) * (a - a0)) / (eq.subs(x, a) - eq.subs(x, a0))).evalf()\n",
    "\n",
    "    a0 = a\n",
    "    a = temp\n",
    "    threshold = abs(eq.subs(x, a))\n",
    "  return a\n",
    "x = sp.Symbol('x')\n",
    "a = semi_newton(-0.5, -1, cos(x) + x)\n",
    "\n",
    "arr.append(f'{a:0,.20f}')"
   ]
  },
  {
   "cell_type": "code",
   "execution_count": 145,
   "id": "7c5b46bf",
   "metadata": {},
   "outputs": [
    {
     "data": {
      "text/html": [
       "<div>\n",
       "<style scoped>\n",
       "    .dataframe tbody tr th:only-of-type {\n",
       "        vertical-align: middle;\n",
       "    }\n",
       "\n",
       "    .dataframe tbody tr th {\n",
       "        vertical-align: top;\n",
       "    }\n",
       "\n",
       "    .dataframe thead th {\n",
       "        text-align: right;\n",
       "    }\n",
       "</style>\n",
       "<table border=\"1\" class=\"dataframe\">\n",
       "  <thead>\n",
       "    <tr style=\"text-align: right;\">\n",
       "      <th></th>\n",
       "      <th>result</th>\n",
       "    </tr>\n",
       "  </thead>\n",
       "  <tbody>\n",
       "    <tr>\n",
       "      <th>bisection</th>\n",
       "      <td>-0.73908513321516067229</td>\n",
       "    </tr>\n",
       "    <tr>\n",
       "      <th>false positive</th>\n",
       "      <td>-0.73908513321516100000</td>\n",
       "    </tr>\n",
       "    <tr>\n",
       "      <th>newton</th>\n",
       "      <td>-0.73908513321516100000</td>\n",
       "    </tr>\n",
       "    <tr>\n",
       "      <th>improved newton</th>\n",
       "      <td>-0.73908513321516100000</td>\n",
       "    </tr>\n",
       "  </tbody>\n",
       "</table>\n",
       "</div>"
      ],
      "text/plain": [
       "                                  result\n",
       "bisection        -0.73908513321516067229\n",
       "false positive   -0.73908513321516100000\n",
       "newton           -0.73908513321516100000\n",
       "improved newton  -0.73908513321516100000"
      ]
     },
     "execution_count": 145,
     "metadata": {},
     "output_type": "execute_result"
    }
   ],
   "source": [
    "df = pd.DataFrame(arr)\n",
    "df.columns = ['result']\n",
    "df = df.rename(index={0: 'bisection', 1: 'false positive', 2: 'newton', 3: 'improved newton'})\n",
    "df"
   ]
  },
  {
   "cell_type": "markdown",
   "id": "93756d68",
   "metadata": {},
   "source": [
    "### Question 5:"
   ]
  },
  {
   "cell_type": "code",
   "execution_count": 146,
   "id": "e1fd2e3c",
   "metadata": {},
   "outputs": [
    {
     "name": "stdout",
     "output_type": "stream",
     "text": [
      "1.32672466524201\n"
     ]
    }
   ],
   "source": [
    "num = 1\n",
    "x = Symbol('x')\n",
    "for i in range(100):\n",
    "  num = ln(5/num).evalf()\n",
    "print(num)"
   ]
  },
  {
   "cell_type": "markdown",
   "id": "41f9e8f9",
   "metadata": {},
   "source": [
    "# Interpolation"
   ]
  },
  {
   "cell_type": "markdown",
   "id": "5299450b",
   "metadata": {},
   "source": [
    "## Question 1:"
   ]
  },
  {
   "cell_type": "markdown",
   "id": "04f7bc96",
   "metadata": {},
   "source": [
    "### interpolate $f(x) = cos(x)$ with a polynomial"
   ]
  },
  {
   "cell_type": "code",
   "execution_count": 22,
   "id": "7f7f5b88",
   "metadata": {},
   "outputs": [],
   "source": [
    "x = [0.2, 0.4, 0.6, 0.8]"
   ]
  },
  {
   "cell_type": "code",
   "execution_count": 23,
   "id": "3f60c38f",
   "metadata": {},
   "outputs": [],
   "source": [
    "f1 = [sp.cos(angle) for angle in x]"
   ]
  },
  {
   "cell_type": "code",
   "execution_count": 24,
   "id": "14a2da3e",
   "metadata": {},
   "outputs": [],
   "source": [
    "a0, a1, a2, a3 = sp.symbols('a0 a1 a2 a3')"
   ]
  },
  {
   "cell_type": "code",
   "execution_count": 25,
   "id": "fd9819d9",
   "metadata": {},
   "outputs": [
    {
     "data": {
      "text/latex": [
       "$\\displaystyle a_{0} + 0.2 a_{1} + 0.04 a_{2} + 0.008 a_{3} = 0.980066577841242$"
      ],
      "text/plain": [
       "Eq(a0 + 0.2*a1 + 0.04*a2 + 0.008*a3, 0.980066577841242)"
      ]
     },
     "execution_count": 25,
     "metadata": {},
     "output_type": "execute_result"
    }
   ],
   "source": [
    "xi = x[0]\n",
    "y = a0 + a1 * xi + a2 * xi**2 + a3 * xi**3\n",
    "eq1 = sp.Eq(y, f1[0])\n",
    "eq1"
   ]
  },
  {
   "cell_type": "code",
   "execution_count": 26,
   "id": "facf312c",
   "metadata": {},
   "outputs": [
    {
     "data": {
      "text/latex": [
       "$\\displaystyle a_{0} + 0.4 a_{1} + 0.16 a_{2} + 0.064 a_{3} = 0.921060994002885$"
      ],
      "text/plain": [
       "Eq(a0 + 0.4*a1 + 0.16*a2 + 0.064*a3, 0.921060994002885)"
      ]
     },
     "execution_count": 26,
     "metadata": {},
     "output_type": "execute_result"
    }
   ],
   "source": [
    "xi = x[1]\n",
    "y = a0 + a1 * xi + a2 * xi**2 + a3 * xi**3\n",
    "eq2 = sp.Eq(y, f1[1])\n",
    "eq2"
   ]
  },
  {
   "cell_type": "code",
   "execution_count": 27,
   "id": "0ab580d4",
   "metadata": {
    "scrolled": true
   },
   "outputs": [
    {
     "data": {
      "text/latex": [
       "$\\displaystyle a_{0} + 0.6 a_{1} + 0.36 a_{2} + 0.216 a_{3} = 0.825335614909678$"
      ],
      "text/plain": [
       "Eq(a0 + 0.6*a1 + 0.36*a2 + 0.216*a3, 0.825335614909678)"
      ]
     },
     "execution_count": 27,
     "metadata": {},
     "output_type": "execute_result"
    }
   ],
   "source": [
    "xi = x[2]\n",
    "y = a0 + a1 * xi + a2 * xi**2 + a3 * xi**3\n",
    "eq3 = sp.Eq(y, f1[2])\n",
    "eq3"
   ]
  },
  {
   "cell_type": "code",
   "execution_count": 28,
   "id": "288fa67c",
   "metadata": {},
   "outputs": [],
   "source": [
    "xi = x[3]\n",
    "y = a0 + a1 * xi + a2 * xi**2 + a3 * xi**3\n",
    "eq4 = sp.Eq(y, f1[3])"
   ]
  },
  {
   "cell_type": "code",
   "execution_count": 43,
   "id": "6d60648a",
   "metadata": {},
   "outputs": [
    {
     "data": {
      "text/latex": [
       "$\\displaystyle \\left\\{\\left( 0.998536097639204, \\  0.0153530090870831, \\  -0.554404160324234, \\  0.0795055996988375\\right)\\right\\}$"
      ],
      "text/plain": [
       "{(0.998536097639204, 0.0153530090870831, -0.554404160324234, 0.0795055996988375)}"
      ]
     },
     "execution_count": 43,
     "metadata": {},
     "output_type": "execute_result"
    }
   ],
   "source": [
    "sol = sp.linsolve([eq1, eq2, eq3, eq4], (a0, a1, a2, a3))\n",
    "sol"
   ]
  },
  {
   "cell_type": "code",
   "execution_count": 53,
   "id": "44c1ecb3",
   "metadata": {
    "scrolled": false
   },
   "outputs": [
    {
     "name": "stdout",
     "output_type": "stream",
     "text": [
      "Poly(0.0795055996988375*x**3 - 0.554404160324234*x**2 + 0.0153530090870831*x + 0.998536097639204, x, domain='RR')\n"
     ]
    },
    {
     "data": {
      "image/png": "[encoded data removed]",
      "text/plain": [
       "<Figure size 640x480 with 1 Axes>"
      ]
     },
     "metadata": {},
     "output_type": "display_data"
    },
    {
     "name": "stdout",
     "output_type": "stream",
     "text": [
      "Abs(0.0795055996988375*x**3 - 0.554404160324234*x**2 + 0.0153530090870831*x - cos(x) + 0.998536097639204)\n"
     ]
    },
    {
     "data": {
      "image/png": "[encoded data removed]",
      "text/plain": [
       "<Figure size 640x480 with 1 Axes>"
      ]
     },
     "metadata": {},
     "output_type": "display_data"
    },
    {
     "data": {
      "text/plain": [
       "<sympy.plotting.plot.Plot at 0x23d5ce0b0a0>"
      ]
     },
     "execution_count": 53,
     "metadata": {},
     "output_type": "execute_result"
    }
   ],
   "source": [
    "x = sp.Symbol('x')\n",
    "for solution in sol:\n",
    "    p = sp.Poly(solution, x)\n",
    "    coeffs = p.coeffs()[::-1]  # reverse the order of the coefficients\n",
    "    poly = sp.Poly(coeffs, x)\n",
    "    print(poly)\n",
    "sp.plot(poly.as_expr(), sp.cos(x), (x, 0, 2), title=\"Interpolation\")\n",
    "err = sp.Abs(sp.Add(poly.as_expr(), sp.Mul(sp.Integer(-1), sp.cos(x))))\n",
    "sp.plot(err, (x, 0, 1), title='Error')"
   ]
  },
  {
   "cell_type": "markdown",
   "id": "cfd0966d",
   "metadata": {},
   "source": [
    " ### using newton's divided differences method"
   ]
  },
  {
   "cell_type": "code",
   "execution_count": 128,
   "id": "e44ad886",
   "metadata": {},
   "outputs": [],
   "source": [
    "f2 = []\n",
    "f2.append((f1[1] - f1[0]) / (x[1] - x[0]))\n",
    "f2.append((f1[2] - f1[1]) / (x[2] - x[1]))\n",
    "f2.append((f1[3] - f1[2]) / (x[3] - x[2]))\n",
    "f2.append('null')"
   ]
  },
  {
   "cell_type": "code",
   "execution_count": 129,
   "id": "9543b425",
   "metadata": {},
   "outputs": [],
   "source": [
    "f3 = []\n",
    "f3.append((f2[1] - f2[0]) / (x[2] - x[0]))\n",
    "f3.append((f2[2] - f2[1]) / (x[3] - x[1]))\n",
    "f3.append('null')\n",
    "f3.append('null')"
   ]
  },
  {
   "cell_type": "code",
   "execution_count": 130,
   "id": "0fb50a09",
   "metadata": {},
   "outputs": [],
   "source": [
    "f4 = []\n",
    "f4.append((f3[1] - f3[0]) / (x[3] - x[0]))\n",
    "f4.append('null')\n",
    "f4.append('null')\n",
    "f4.append('null')"
   ]
  },
  {
   "cell_type": "code",
   "execution_count": 131,
   "id": "760d1ac7",
   "metadata": {},
   "outputs": [
    {
     "data": {
      "text/html": [
       "<div>\n",
       "<style scoped>\n",
       "    .dataframe tbody tr th:only-of-type {\n",
       "        vertical-align: middle;\n",
       "    }\n",
       "\n",
       "    .dataframe tbody tr th {\n",
       "        vertical-align: top;\n",
       "    }\n",
       "\n",
       "    .dataframe thead th {\n",
       "        text-align: right;\n",
       "    }\n",
       "</style>\n",
       "<table border=\"1\" class=\"dataframe\">\n",
       "  <thead>\n",
       "    <tr style=\"text-align: right;\">\n",
       "      <th></th>\n",
       "      <th>$x$</th>\n",
       "      <th>$f(x)$</th>\n",
       "      <th>$f(x_i x_{i+1})$</th>\n",
       "      <th>$f(x_i x_{i+1} x_{i+2})$</th>\n",
       "      <th>$f({x_i} x_{i+1} x_{i+2} x_{i+3})$</th>\n",
       "    </tr>\n",
       "  </thead>\n",
       "  <tbody>\n",
       "    <tr>\n",
       "      <th>0</th>\n",
       "      <td>0.2</td>\n",
       "      <td>0.980067</td>\n",
       "      <td>-0.295028</td>\n",
       "      <td>-0.458997</td>\n",
       "      <td>0.079506</td>\n",
       "    </tr>\n",
       "    <tr>\n",
       "      <th>1</th>\n",
       "      <td>0.4</td>\n",
       "      <td>0.921061</td>\n",
       "      <td>-0.478627</td>\n",
       "      <td>-0.411294</td>\n",
       "      <td>null</td>\n",
       "    </tr>\n",
       "    <tr>\n",
       "      <th>2</th>\n",
       "      <td>0.6</td>\n",
       "      <td>0.825336</td>\n",
       "      <td>-0.643145</td>\n",
       "      <td>null</td>\n",
       "      <td>null</td>\n",
       "    </tr>\n",
       "    <tr>\n",
       "      <th>3</th>\n",
       "      <td>0.8</td>\n",
       "      <td>0.696707</td>\n",
       "      <td>null</td>\n",
       "      <td>null</td>\n",
       "      <td>null</td>\n",
       "    </tr>\n",
       "  </tbody>\n",
       "</table>\n",
       "</div>"
      ],
      "text/plain": [
       "   $x$    $f(x)$ $f(x_i x_{i+1})$ $f(x_i x_{i+1} x_{i+2})$  \\\n",
       "0  0.2  0.980067        -0.295028                -0.458997   \n",
       "1  0.4  0.921061        -0.478627                -0.411294   \n",
       "2  0.6  0.825336        -0.643145                     null   \n",
       "3  0.8  0.696707             null                     null   \n",
       "\n",
       "  $f({x_i} x_{i+1} x_{i+2} x_{i+3})$  \n",
       "0                           0.079506  \n",
       "1                               null  \n",
       "2                               null  \n",
       "3                               null  "
      ]
     },
     "execution_count": 131,
     "metadata": {},
     "output_type": "execute_result"
    }
   ],
   "source": [
    "data = {'$x$': x, '$f(x)$': f1, r'$f(x_i x_{i+1})$' : f2, r'$f(x_i x_{i+1} x_{i+2})$' : f3, r'$f({x_i} x_{i+1} x_{i+2} x_{i+3})$' : f4}\n",
    "df = pd.DataFrame(data) \n",
    "df"
   ]
  },
  {
   "cell_type": "code",
   "execution_count": 132,
   "id": "41243af2",
   "metadata": {},
   "outputs": [],
   "source": [
    "xi = sp.Symbol('xi')\n",
    "p = f1[0] + f2[0] * (xi - x[0]) + f3[0] * (xi - x[0]) * (xi - x[1]) + f4[0] * (xi - x[0]) * (xi - x[1]) * (xi - x[2])"
   ]
  },
  {
   "cell_type": "code",
   "execution_count": 133,
   "id": "88b03380",
   "metadata": {},
   "outputs": [
    {
     "data": {
      "text/latex": [
       "$\\displaystyle 0.0795055996988371 \\xi^{3} - 0.554404160324233 \\xi^{2} + 0.0153530090870828 \\xi + 0.998536097639204$"
      ],
      "text/plain": [
       "0.0795055996988371*xi**3 - 0.554404160324233*xi**2 + 0.0153530090870828*xi + 0.998536097639204"
      ]
     },
     "execution_count": 133,
     "metadata": {},
     "output_type": "execute_result"
    }
   ],
   "source": [
    "sp.simplify(p)"
   ]
  },
  {
   "cell_type": "code",
   "execution_count": 135,
   "id": "cc1b3e24",
   "metadata": {},
   "outputs": [
    {
     "data": {
      "image/png": "[encoded data removed]",
      "text/plain": [
       "<Figure size 640x480 with 1 Axes>"
      ]
     },
     "metadata": {},
     "output_type": "display_data"
    },
    {
     "data": {
      "image/png": "[encoded data removed]",
      "text/plain": [
       "<Figure size 640x480 with 1 Axes>"
      ]
     },
     "metadata": {},
     "output_type": "display_data"
    },
    {
     "data": {
      "text/plain": [
       "<sympy.plotting.plot.Plot at 0x2197b9f3490>"
      ]
     },
     "execution_count": 135,
     "metadata": {},
     "output_type": "execute_result"
    }
   ],
   "source": [
    "err = sp.Abs(p - sp.cos(xi))\n",
    "sp.plot(p, sp.cos(xi), (xi, 0, 2), title='Newton Interpolation for cos(x)')\n",
    "sp.plot(err, (xi, 0, 1), title='Error')"
   ]
  },
  {
   "cell_type": "markdown",
   "id": "97067bb4",
   "metadata": {},
   "source": [
    "## Question 2 :"
   ]
  },
  {
   "cell_type": "markdown",
   "id": "b2e09d9d",
   "metadata": {},
   "source": [
    "#### using Hermite interpolation for f(x) = cos(2x) and given points of 0.2 0.4 0.6 0.8"
   ]
  },
  {
   "cell_type": "code",
   "execution_count": 2,
   "id": "08c410d7",
   "metadata": {},
   "outputs": [],
   "source": [
    "x1 = [0.2, 0.4, 0.6, 0.8]\n",
    "f1 = [math.cos(2 * angle) for angle in x1]\n",
    "f1d = [2 * math.sin(2 * angle) for angle in x1]"
   ]
  },
  {
   "cell_type": "code",
   "execution_count": 12,
   "id": "5ad4607e",
   "metadata": {},
   "outputs": [],
   "source": [
    "xs = [0.2, 0.2, 0.4, 0.4, 0.6, 0.6, 0.8, 0.8]\n",
    "f1s = []\n",
    "for i in range(4):\n",
    "    f1s.append(f1[i])\n",
    "    f1s.append(f1[i])\n",
    "f2s = [f1d[0]]\n",
    "f2s.append((f1s[2] - f1s[1]) / (xs[2] - xs[1]))\n",
    "f2s.append(f1d[1])\n",
    "f2s.append((f1s[4] - f1s[3]) / (xs[4] - xs[3]))\n",
    "f2s.append(f1d[2])\n",
    "f2s.append((f1s[6] - f1s[5]) / (xs[6] - xs[5]))\n",
    "f2s.append(f1d[3])\n",
    "for i in range(1):\n",
    "    f2s.append('null')"
   ]
  },
  {
   "cell_type": "code",
   "execution_count": 13,
   "id": "e40663bd",
   "metadata": {},
   "outputs": [],
   "source": [
    "f3s = []\n",
    "f3s.append((f2s[1] - f2s[0]) / (xs[2] - xs[0]))\n",
    "f3s.append((f2s[2] - f2s[1]) / (xs[3] - xs[1]))\n",
    "f3s.append((f2s[3] - f2s[2]) / (xs[4] - xs[2]))\n",
    "f3s.append((f2s[4] - f2s[3]) / (xs[5] - xs[3]))\n",
    "f3s.append((f2s[5] - f2s[4]) / (xs[6] - xs[4]))\n",
    "f3s.append((f2s[6] - f2s[5]) / (xs[7] - xs[5]))\n",
    "for i in range(2):\n",
    "    f3s.append('null')"
   ]
  },
  {
   "cell_type": "code",
   "execution_count": 14,
   "id": "8950e0d0",
   "metadata": {},
   "outputs": [],
   "source": [
    "f4s = []\n",
    "f4s.append((f3s[1] - f3s[0]) / (xs[3] - xs[0]))\n",
    "f4s.append((f3s[2] - f3s[1]) / (xs[4] - xs[1]))\n",
    "f4s.append((f3s[3] - f3s[2]) / (xs[5] - xs[2]))\n",
    "f4s.append((f3s[4] - f3s[3]) / (xs[6] - xs[3]))\n",
    "f4s.append((f3s[5] - f3s[4]) / (xs[7] - xs[4]))\n",
    "for i in range(3):\n",
    "    f4s.append('null')"
   ]
  },
  {
   "cell_type": "code",
   "execution_count": 15,
   "id": "d4b16961",
   "metadata": {},
   "outputs": [],
   "source": [
    "f5s = []\n",
    "f5s.append((f4s[1] - f4s[0]) / (xs[4] - xs[0]))\n",
    "f5s.append((f4s[2] - f4s[1]) / (xs[5] - xs[1]))\n",
    "f5s.append((f4s[3] - f4s[2]) / (xs[6] - xs[2]))\n",
    "f5s.append((f4s[4] - f4s[3]) / (xs[7] - xs[3]))\n",
    "for i in range(4):\n",
    "    f5s.append('null')"
   ]
  },
  {
   "cell_type": "code",
   "execution_count": 16,
   "id": "4b8cdcb9",
   "metadata": {},
   "outputs": [],
   "source": [
    "f6s = []\n",
    "f6s.append((f5s[1] - f5s[0]) / (xs[5] - xs[0]))\n",
    "f6s.append((f5s[2] - f5s[1]) / (xs[6] - xs[1]))\n",
    "f6s.append((f5s[3] - f5s[2]) / (xs[7] - xs[2]))\n",
    "for i in range(5):\n",
    "    f6s.append('null')"
   ]
  },
  {
   "cell_type": "code",
   "execution_count": 17,
   "id": "38adfaa5",
   "metadata": {},
   "outputs": [],
   "source": [
    "f7s = []\n",
    "f7s.append((f6s[1] - f6s[0]) / (xs[6] - xs[0]))\n",
    "f7s.append((f6s[2] - f6s[1]) / (xs[7] - xs[1]))\n",
    "for i in range(6):\n",
    "    f7s.append('null')"
   ]
  },
  {
   "cell_type": "code",
   "execution_count": 18,
   "id": "a2721296",
   "metadata": {},
   "outputs": [],
   "source": [
    "f8s = []\n",
    "f8s.append((f7s[1] - f7s[0]) / (xs[7] - xs[0]))\n",
    "for i in range(7):\n",
    "    f8s.append('null')"
   ]
  },
  {
   "cell_type": "code",
   "execution_count": 19,
   "id": "51c6c675",
   "metadata": {},
   "outputs": [
    {
     "data": {
      "text/html": [
       "<div>\n",
       "<style scoped>\n",
       "    .dataframe tbody tr th:only-of-type {\n",
       "        vertical-align: middle;\n",
       "    }\n",
       "\n",
       "    .dataframe tbody tr th {\n",
       "        vertical-align: top;\n",
       "    }\n",
       "\n",
       "    .dataframe thead th {\n",
       "        text-align: right;\n",
       "    }\n",
       "</style>\n",
       "<table border=\"1\" class=\"dataframe\">\n",
       "  <thead>\n",
       "    <tr style=\"text-align: right;\">\n",
       "      <th></th>\n",
       "      <th>x</th>\n",
       "      <th>f1</th>\n",
       "      <th>f2</th>\n",
       "      <th>f3</th>\n",
       "      <th>f4</th>\n",
       "      <th>f5</th>\n",
       "      <th>f6s</th>\n",
       "      <th>f7</th>\n",
       "      <th>f8</th>\n",
       "    </tr>\n",
       "  </thead>\n",
       "  <tbody>\n",
       "    <tr>\n",
       "      <th>0</th>\n",
       "      <td>0.2</td>\n",
       "      <td>0.921061</td>\n",
       "      <td>0.778837</td>\n",
       "      <td>-9.503041</td>\n",
       "      <td>111.427293</td>\n",
       "      <td>-455.535125</td>\n",
       "      <td>2619.111278</td>\n",
       "      <td>-7801.795504</td>\n",
       "      <td>28183.265123</td>\n",
       "    </tr>\n",
       "    <tr>\n",
       "      <th>1</th>\n",
       "      <td>0.2</td>\n",
       "      <td>0.921061</td>\n",
       "      <td>-1.121771</td>\n",
       "      <td>12.782418</td>\n",
       "      <td>-70.786757</td>\n",
       "      <td>592.109386</td>\n",
       "      <td>-2061.966025</td>\n",
       "      <td>9108.16357</td>\n",
       "      <td>null</td>\n",
       "    </tr>\n",
       "    <tr>\n",
       "      <th>2</th>\n",
       "      <td>0.4</td>\n",
       "      <td>0.696707</td>\n",
       "      <td>1.434712</td>\n",
       "      <td>-15.532285</td>\n",
       "      <td>166.056998</td>\n",
       "      <td>-645.070228</td>\n",
       "      <td>3402.932117</td>\n",
       "      <td>null</td>\n",
       "      <td>null</td>\n",
       "    </tr>\n",
       "    <tr>\n",
       "      <th>3</th>\n",
       "      <td>0.4</td>\n",
       "      <td>0.696707</td>\n",
       "      <td>-1.671745</td>\n",
       "      <td>17.679115</td>\n",
       "      <td>-91.971094</td>\n",
       "      <td>716.102619</td>\n",
       "      <td>null</td>\n",
       "      <td>null</td>\n",
       "      <td>null</td>\n",
       "    </tr>\n",
       "    <tr>\n",
       "      <th>4</th>\n",
       "      <td>0.6</td>\n",
       "      <td>0.362358</td>\n",
       "      <td>1.864078</td>\n",
       "      <td>-19.109323</td>\n",
       "      <td>194.469954</td>\n",
       "      <td>null</td>\n",
       "      <td>null</td>\n",
       "      <td>null</td>\n",
       "      <td>null</td>\n",
       "    </tr>\n",
       "    <tr>\n",
       "      <th>5</th>\n",
       "      <td>0.6</td>\n",
       "      <td>0.362358</td>\n",
       "      <td>-1.957786</td>\n",
       "      <td>19.784668</td>\n",
       "      <td>null</td>\n",
       "      <td>null</td>\n",
       "      <td>null</td>\n",
       "      <td>null</td>\n",
       "      <td>null</td>\n",
       "    </tr>\n",
       "    <tr>\n",
       "      <th>6</th>\n",
       "      <td>0.8</td>\n",
       "      <td>-0.029200</td>\n",
       "      <td>1.999147</td>\n",
       "      <td>null</td>\n",
       "      <td>null</td>\n",
       "      <td>null</td>\n",
       "      <td>null</td>\n",
       "      <td>null</td>\n",
       "      <td>null</td>\n",
       "    </tr>\n",
       "    <tr>\n",
       "      <th>7</th>\n",
       "      <td>0.8</td>\n",
       "      <td>-0.029200</td>\n",
       "      <td>null</td>\n",
       "      <td>null</td>\n",
       "      <td>null</td>\n",
       "      <td>null</td>\n",
       "      <td>null</td>\n",
       "      <td>null</td>\n",
       "      <td>null</td>\n",
       "    </tr>\n",
       "  </tbody>\n",
       "</table>\n",
       "</div>"
      ],
      "text/plain": [
       "     x        f1        f2         f3          f4          f5          f6s  \\\n",
       "0  0.2  0.921061  0.778837  -9.503041  111.427293 -455.535125  2619.111278   \n",
       "1  0.2  0.921061 -1.121771  12.782418  -70.786757  592.109386 -2061.966025   \n",
       "2  0.4  0.696707  1.434712 -15.532285  166.056998 -645.070228  3402.932117   \n",
       "3  0.4  0.696707 -1.671745  17.679115  -91.971094  716.102619         null   \n",
       "4  0.6  0.362358  1.864078 -19.109323  194.469954        null         null   \n",
       "5  0.6  0.362358 -1.957786  19.784668        null        null         null   \n",
       "6  0.8 -0.029200  1.999147       null        null        null         null   \n",
       "7  0.8 -0.029200      null       null        null        null         null   \n",
       "\n",
       "            f7            f8  \n",
       "0 -7801.795504  28183.265123  \n",
       "1   9108.16357          null  \n",
       "2         null          null  \n",
       "3         null          null  \n",
       "4         null          null  \n",
       "5         null          null  \n",
       "6         null          null  \n",
       "7         null          null  "
      ]
     },
     "execution_count": 19,
     "metadata": {},
     "output_type": "execute_result"
    }
   ],
   "source": [
    "data = {'x': xs, 'f1': f1s, 'f2' : f2s, 'f3' : f3s, 'f4' : f4s, 'f5' : f5s, 'f6s' : f6s, 'f7' : f7s, 'f8' : f8s}\n",
    "df = pd.DataFrame(data) \n",
    "df"
   ]
  },
  {
   "cell_type": "code",
   "execution_count": 20,
   "id": "fed78ade",
   "metadata": {},
   "outputs": [],
   "source": [
    "xi = sp.Symbol('xi')\n",
    "p = f1s[0] + f2s[0]*(xi - xs[0]) + f3s[0]*(xi - xs[0])*(xi - xs[1]) + f4s[0]*(xi - xs[0])*(xi - xs[1])*(xi - xs[2]) + f5s[0]*(xi - xs[0])*(xi - xs[1])*(xi - xs[2])*(xi - xs[3]) + f6s[0]*(xi - xs[0])*(xi - xs[1])*(xi - xs[2])*(xi - xs[3])*(xi - xs[4]) + f7s[0]*(xi - xs[0])*(xi - xs[1])*(xi - xs[2])*(xi - xs[3])*(xi - xs[4])*(xi - xs[5]) + f8s[0]*(xi - xs[0])*(xi - xs[1])*(xi - xs[2])*(xi - xs[3])*(xi - xs[4])*(xi - xs[5])*(xi - xs[6])"
   ]
  },
  {
   "cell_type": "code",
   "execution_count": 21,
   "id": "b1576be0",
   "metadata": {},
   "outputs": [],
   "source": [
    "p = sp.simplify(p)"
   ]
  },
  {
   "cell_type": "code",
   "execution_count": 88,
   "id": "c0eb091c",
   "metadata": {},
   "outputs": [
    {
     "data": {
      "image/png": "[encoded data removed]",
      "text/plain": [
       "<Figure size 640x480 with 1 Axes>"
      ]
     },
     "metadata": {},
     "output_type": "display_data"
    },
    {
     "data": {
      "image/png": "[encoded data removed]",
      "text/plain": [
       "<Figure size 640x480 with 1 Axes>"
      ]
     },
     "metadata": {},
     "output_type": "display_data"
    },
    {
     "data": {
      "text/plain": [
       "<sympy.plotting.plot.Plot at 0x16342c5f580>"
      ]
     },
     "execution_count": 88,
     "metadata": {},
     "output_type": "execute_result"
    }
   ],
   "source": [
    "err = sp.Abs(p - sp.cos(2*xi))\n",
    "sp.plot(p, sp.cos(2*xi), (xi, 0, 1), ylim=[-7,7], title='Hermite Interpolation')\n",
    "sp.plot(err, (xi, 0, 1), ylim=[-7,7], title='Error')"
   ]
  },
  {
   "cell_type": "markdown",
   "id": "14b1fbe8",
   "metadata": {},
   "source": [
    "#### plotting their derivatives"
   ]
  },
  {
   "cell_type": "code",
   "execution_count": 87,
   "id": "8fead845",
   "metadata": {},
   "outputs": [
    {
     "data": {
      "image/png": "[encoded data removed]",
      "text/plain": [
       "<Figure size 640x480 with 1 Axes>"
      ]
     },
     "metadata": {},
     "output_type": "display_data"
    },
    {
     "data": {
      "image/png": "[encoded data removed]",
      "text/plain": [
       "<Figure size 640x480 with 1 Axes>"
      ]
     },
     "metadata": {},
     "output_type": "display_data"
    },
    {
     "data": {
      "text/plain": [
       "<sympy.plotting.plot.Plot at 0x16342bc9220>"
      ]
     },
     "execution_count": 87,
     "metadata": {},
     "output_type": "execute_result"
    }
   ],
   "source": [
    "p1 = sp.diff(p, xi)\n",
    "err = sp.Abs(p1 + 2 * sp.sin(2*xi))\n",
    "sp.plot(p1, 2 * sp.sin(2*xi), (xi, 0, 1), ylim=[-7,7], title='Hermite Interpolation')\n",
    "sp.plot(err, (xi, 0, 1), ylim=[-7,7], title='Error')"
   ]
  },
  {
   "cell_type": "markdown",
   "id": "4d0f8689",
   "metadata": {},
   "source": [
    "## Question 3:"
   ]
  },
  {
   "cell_type": "markdown",
   "id": "96facef3",
   "metadata": {},
   "source": [
    "$yi = a0 + a1*xi + a2*xi^2 + a3*xi^3 + a4*xi^4 + a5*xi^5 + a6*xi^6\\\\\n",
    "di = a1 + 2*a2*xi + 3*a3*xi^2 + 4*a4*xi^3 + 5*a5*xi^4 + 6*a6*xi^5\\\\\n",
    "ddi = 2*a2 + 6*a3*xi + 12*a4*xi^2 + 20*a5*xi^3 + 30*a6*xi^4$"
   ]
  },
  {
   "cell_type": "code",
   "execution_count": 69,
   "id": "6bccb9d1",
   "metadata": {},
   "outputs": [],
   "source": [
    "xi = sp.Symbol('xi')\n",
    "a0, a1, a2, a3, a4, a5, a6 = sp.symbols('a0 a1 a2 a3 a4 a5 a6')"
   ]
  },
  {
   "cell_type": "markdown",
   "id": "a69d9c2e",
   "metadata": {},
   "source": [
    "### Forming Equations:"
   ]
  },
  {
   "cell_type": "code",
   "execution_count": 70,
   "id": "07d120c3",
   "metadata": {},
   "outputs": [
    {
     "data": {
      "text/latex": [
       "$\\displaystyle a_{0} + 2 a_{1} + 4 a_{2} + 8 a_{3} + 16 a_{4} + 32 a_{5} + 64 a_{6} = 12$"
      ],
      "text/plain": [
       "Eq(a0 + 2*a1 + 4*a2 + 8*a3 + 16*a4 + 32*a5 + 64*a6, 12)"
      ]
     },
     "execution_count": 70,
     "metadata": {},
     "output_type": "execute_result"
    }
   ],
   "source": [
    "xi = 2\n",
    "yi = a0 + a1*xi + a2*xi**2 + a3*xi**3 + a4*xi**4 + a5*xi**5 + a6*xi**6\n",
    "di = a1 + 2*a2*xi + 3*a3*xi**2 + 4*a4*xi**3 + 5*a5*xi**4 + 6*a6*xi**5\n",
    "ddi = 2*a2 + 6*a3*xi + 12*a4*xi**2 + 20*a5*xi**3 + 30*a6*xi**4\n",
    "eq1 = sp.Eq(yi, 12)\n",
    "eq1"
   ]
  },
  {
   "cell_type": "code",
   "execution_count": 71,
   "id": "ff28b997",
   "metadata": {},
   "outputs": [
    {
     "data": {
      "text/latex": [
       "$\\displaystyle a_{1} + 4 a_{2} + 12 a_{3} + 32 a_{4} + 80 a_{5} + 192 a_{6} = 0$"
      ],
      "text/plain": [
       "Eq(a1 + 4*a2 + 12*a3 + 32*a4 + 80*a5 + 192*a6, 0)"
      ]
     },
     "execution_count": 71,
     "metadata": {},
     "output_type": "execute_result"
    }
   ],
   "source": [
    "eq2 = sp.Eq(di, 0)\n",
    "eq2"
   ]
  },
  {
   "cell_type": "code",
   "execution_count": 72,
   "id": "6aa207ea",
   "metadata": {},
   "outputs": [
    {
     "data": {
      "text/latex": [
       "$\\displaystyle a_{0} + 4 a_{1} + 16 a_{2} + 64 a_{3} + 256 a_{4} + 1024 a_{5} + 4096 a_{6} = 18$"
      ],
      "text/plain": [
       "Eq(a0 + 4*a1 + 16*a2 + 64*a3 + 256*a4 + 1024*a5 + 4096*a6, 18)"
      ]
     },
     "execution_count": 72,
     "metadata": {},
     "output_type": "execute_result"
    }
   ],
   "source": [
    "xi = 4\n",
    "yi = a0 + a1*xi + a2*xi**2 + a3*xi**3 + a4*xi**4 + a5*xi**5 + a6*xi**6\n",
    "di = a1 + 2*a2*xi + 3*a3*xi**2 + 4*a4*xi**3 + 5*a5*xi**4 + 6*a6*xi**5\n",
    "ddi = 2*a2 + 6*a3*xi + 12*a4*xi**2 + 20*a5*xi**3 + 30*a6*xi**4\n",
    "eq4 = sp.Eq(yi, 18)\n",
    "eq4"
   ]
  },
  {
   "cell_type": "code",
   "execution_count": 73,
   "id": "7b6d55fa",
   "metadata": {},
   "outputs": [
    {
     "data": {
      "text/latex": [
       "$\\displaystyle a_{1} + 8 a_{2} + 48 a_{3} + 256 a_{4} + 1280 a_{5} + 6144 a_{6} = 1$"
      ],
      "text/plain": [
       "Eq(a1 + 8*a2 + 48*a3 + 256*a4 + 1280*a5 + 6144*a6, 1)"
      ]
     },
     "execution_count": 73,
     "metadata": {},
     "output_type": "execute_result"
    }
   ],
   "source": [
    "eq5 = sp.Eq(di, 1)\n",
    "eq5"
   ]
  },
  {
   "cell_type": "code",
   "execution_count": 74,
   "id": "a6e48fef",
   "metadata": {},
   "outputs": [
    {
     "data": {
      "text/latex": [
       "$\\displaystyle 2 a_{2} + 24 a_{3} + 192 a_{4} + 1280 a_{5} + 7680 a_{6} = -0.7$"
      ],
      "text/plain": [
       "Eq(2*a2 + 24*a3 + 192*a4 + 1280*a5 + 7680*a6, -0.7)"
      ]
     },
     "execution_count": 74,
     "metadata": {},
     "output_type": "execute_result"
    }
   ],
   "source": [
    "eq6 = sp.Eq(ddi, -0.7)\n",
    "eq6"
   ]
  },
  {
   "cell_type": "code",
   "execution_count": 75,
   "id": "eb159009",
   "metadata": {},
   "outputs": [
    {
     "data": {
      "text/latex": [
       "$\\displaystyle a_{0} + 5 a_{1} + 25 a_{2} + 125 a_{3} + 625 a_{4} + 3125 a_{5} + 15625 a_{6} = 13$"
      ],
      "text/plain": [
       "Eq(a0 + 5*a1 + 25*a2 + 125*a3 + 625*a4 + 3125*a5 + 15625*a6, 13)"
      ]
     },
     "execution_count": 75,
     "metadata": {},
     "output_type": "execute_result"
    }
   ],
   "source": [
    "xi = 5\n",
    "yi = a0 + a1*xi + a2*xi**2 + a3*xi**3 + a4*xi**4 + a5*xi**5 + a6*xi**6\n",
    "di = a1 + 2*a2*xi + 3*a3*xi**2 + 4*a4*xi**3 + 5*a5*xi**4 + 6*a6*xi**5\n",
    "ddi = 2*a2 + 6*a3*xi + 12*a4*xi**2 + 20*a5*xi**3 + 30*a6*xi**4\n",
    "eq7 = sp.Eq(yi, 13)\n",
    "eq7"
   ]
  },
  {
   "cell_type": "code",
   "execution_count": 76,
   "id": "219cc1e1",
   "metadata": {},
   "outputs": [
    {
     "data": {
      "text/latex": [
       "$\\displaystyle a_{1} + 10 a_{2} + 75 a_{3} + 500 a_{4} + 3125 a_{5} + 18750 a_{6} = 0$"
      ],
      "text/plain": [
       "Eq(a1 + 10*a2 + 75*a3 + 500*a4 + 3125*a5 + 18750*a6, 0)"
      ]
     },
     "execution_count": 76,
     "metadata": {},
     "output_type": "execute_result"
    }
   ],
   "source": [
    "eq8 = sp.Eq(di, 0)\n",
    "eq8"
   ]
  },
  {
   "cell_type": "markdown",
   "id": "f17ff120",
   "metadata": {},
   "source": [
    "### Matrix Representation"
   ]
  },
  {
   "cell_type": "markdown",
   "id": "6e7d2e95",
   "metadata": {},
   "source": [
    "we have 7 equations and 7 variables so wee need a 7 * 7 matrix of coefficians and 7 * 1 of $a_i$s which their multiplation would result in 7 * 1 ys"
   ]
  },
  {
   "cell_type": "code",
   "execution_count": 77,
   "id": "4c563de6",
   "metadata": {},
   "outputs": [
    {
     "data": {
      "text/latex": [
       "$\\displaystyle \\left[\\begin{matrix}1 & 2 & 4 & 8 & 16 & 32 & 64\\\\0 & 1 & 4 & 12 & 32 & 80 & 192\\\\1 & 4 & 16 & 64 & 256 & 1024 & 4096\\\\0 & 1 & 8 & 48 & 256 & 1280 & 6144\\\\0 & 0 & 2 & 24 & 192 & 1280 & 7680\\\\1 & 5 & 25 & 125 & 625 & 3125 & 15625\\\\0 & 1 & 10 & 75 & 500 & 3125 & 18750\\end{matrix}\\right]$"
      ],
      "text/plain": [
       "Matrix([\n",
       "[1, 2,  4,   8,  16,   32,    64],\n",
       "[0, 1,  4,  12,  32,   80,   192],\n",
       "[1, 4, 16,  64, 256, 1024,  4096],\n",
       "[0, 1,  8,  48, 256, 1280,  6144],\n",
       "[0, 0,  2,  24, 192, 1280,  7680],\n",
       "[1, 5, 25, 125, 625, 3125, 15625],\n",
       "[0, 1, 10,  75, 500, 3125, 18750]])"
      ]
     },
     "execution_count": 77,
     "metadata": {},
     "output_type": "execute_result"
    }
   ],
   "source": [
    "M = sp.Matrix([[1, 2, 4, 8, 16, 32, 64], [0, 1, 4, 12, 32, 80, 192], [1, 4, 16, 64, 256, 1024, 4096], [0, 1, 8, 48, 256, 1280, 6144], [0, 0, 2, 24, 192, 1280, 7680], [1, 5, 25, 125, 625, 3125, 15625], [0, 1, 10, 75, 500, 3125, 18750]])\n",
    "M"
   ]
  },
  {
   "cell_type": "code",
   "execution_count": 78,
   "id": "6236ba00",
   "metadata": {},
   "outputs": [
    {
     "data": {
      "text/latex": [
       "$\\displaystyle \\left[\\begin{matrix}a_{0}\\\\a_{1}\\\\a_{2}\\\\a_{3}\\\\a_{4}\\\\a_{5}\\\\a_{6}\\end{matrix}\\right]$"
      ],
      "text/plain": [
       "Matrix([\n",
       "[a0],\n",
       "[a1],\n",
       "[a2],\n",
       "[a3],\n",
       "[a4],\n",
       "[a5],\n",
       "[a6]])"
      ]
     },
     "execution_count": 78,
     "metadata": {},
     "output_type": "execute_result"
    }
   ],
   "source": [
    "A = sp.Matrix([[a0], [a1], [a2], [a3], [a4], [a5], [a6]])\n",
    "A"
   ]
  },
  {
   "cell_type": "code",
   "execution_count": 83,
   "id": "4743807c",
   "metadata": {},
   "outputs": [
    {
     "data": {
      "text/latex": [
       "$\\displaystyle \\left[\\begin{matrix}12\\\\0\\\\18\\\\1\\\\-0.7\\\\13\\\\0\\end{matrix}\\right]$"
      ],
      "text/plain": [
       "Matrix([\n",
       "[  12],\n",
       "[   0],\n",
       "[  18],\n",
       "[   1],\n",
       "[-0.7],\n",
       "[  13],\n",
       "[   0]])"
      ]
     },
     "execution_count": 83,
     "metadata": {},
     "output_type": "execute_result"
    }
   ],
   "source": [
    "Y = sp.Matrix([[12], [0], [18], [1], [-0.7], [13], [0]])\n",
    "Y"
   ]
  },
  {
   "cell_type": "markdown",
   "id": "e9aa4f1e",
   "metadata": {},
   "source": [
    "### Solving Equation:"
   ]
  },
  {
   "cell_type": "code",
   "execution_count": 80,
   "id": "5bbf9da8",
   "metadata": {},
   "outputs": [
    {
     "name": "stdout",
     "output_type": "stream",
     "text": [
      "{(3372.07407407416, -6462.33333333349, 5018.09444444457, -2016.93333333338, 444.026388888899, -50.9083333333345, 2.38009259259265)}\n"
     ]
    }
   ],
   "source": [
    "sol = sp.linsolve([eq1, eq2, eq4, eq5, eq6, eq7, eq8], (a0, a1, a2, a3, a4, a5, a6))\n",
    "print(sol)"
   ]
  },
  {
   "cell_type": "code",
   "execution_count": 81,
   "id": "bd422d79",
   "metadata": {},
   "outputs": [
    {
     "name": "stdout",
     "output_type": "stream",
     "text": [
      "Poly(2.38009259259265*x**6 - 50.9083333333345*x**5 + 444.026388888899*x**4 - 2016.93333333338*x**3 + 5018.09444444457*x**2 - 6462.33333333349*x + 3372.07407407416, x, domain='RR')\n"
     ]
    }
   ],
   "source": [
    "x = sp.Symbol('x')\n",
    "for solution in sol:\n",
    "    p = sp.Poly(solution, x)\n",
    "    coeffs = p.coeffs()[::-1]  # reverse the order of the coefficients\n",
    "    poly = sp.Poly(coeffs, x)\n",
    "    print(poly)"
   ]
  },
  {
   "cell_type": "markdown",
   "id": "f1119eae",
   "metadata": {},
   "source": [
    "### Plot output"
   ]
  },
  {
   "cell_type": "code",
   "execution_count": 82,
   "id": "8a17316c",
   "metadata": {},
   "outputs": [
    {
     "data": {
      "image/png": "[encoded data removed]",
      "text/plain": [
       "<Figure size 640x480 with 1 Axes>"
      ]
     },
     "metadata": {},
     "output_type": "display_data"
    }
   ],
   "source": [
    "p = sp.plot(poly.as_expr(), (x, -20, 20), line_color='blue', show=False)\n",
    "p.show()"
   ]
  },
  {
   "cell_type": "code",
   "execution_count": null,
   "id": "f5c0dd6c",
   "metadata": {},
   "outputs": [],
   "source": []
  }
 ],
 "metadata": {
  "kernelspec": {
   "display_name": "Python 3 (ipykernel)",
   "language": "python",
   "name": "python3"
  },
  "language_info": {
   "codemirror_mode": {
    "name": "ipython",
    "version": 3
   },
   "file_extension": ".py",
   "mimetype": "text/x-python",
   "name": "python",
   "nbconvert_exporter": "python",
   "pygments_lexer": "ipython3",
   "version": "3.9.13"
  }
 },
 "nbformat": 4,
 "nbformat_minor": 5
}
