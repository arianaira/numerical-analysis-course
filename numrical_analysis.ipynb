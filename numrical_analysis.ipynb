{
 "cells": [
  {
   "cell_type": "markdown",
   "id": "94daacce",
   "metadata": {},
   "source": [
    "# Derivative\n",
    "__Author__ : Ariana Aghamohamadi - 400222006\n",
    "\n",
    "__Course__ : Undergraduate Numerical Analysis Course"
   ]
  },
  {
   "cell_type": "code",
   "execution_count": 4,
   "id": "b1eaed29",
   "metadata": {},
   "outputs": [],
   "source": [
    "import math\n",
    "import sympy as sp\n",
    "import matplotlib.pyplot as plt"
   ]
  },
  {
   "cell_type": "markdown",
   "id": "a0a72cd8",
   "metadata": {},
   "source": [
    "importing neccessary packages"
   ]
  },
  {
   "cell_type": "markdown",
   "id": "22e15f12",
   "metadata": {},
   "source": [
    "## Problem 1 : First Derivative"
   ]
  },
  {
   "cell_type": "code",
   "execution_count": 18,
   "id": "264da61a",
   "metadata": {},
   "outputs": [],
   "source": [
    "def f(x):\n",
    "    return math.sin(3 * x)"
   ]
  },
  {
   "cell_type": "markdown",
   "id": "74440cfc",
   "metadata": {},
   "source": [
    "defining function $f(x) = $sin(3x)"
   ]
  },
  {
   "cell_type": "code",
   "execution_count": 19,
   "id": "9eabf8f1",
   "metadata": {},
   "outputs": [],
   "source": [
    "def f_1(x):\n",
    "    return 3 * math.cos(3 * x)"
   ]
  },
  {
   "cell_type": "markdown",
   "id": "77d54e05",
   "metadata": {},
   "source": [
    "defining derivative of function f : $f_1(x) = $3cos(3x)"
   ]
  },
  {
   "cell_type": "code",
   "execution_count": 20,
   "id": "f0b5d331",
   "metadata": {},
   "outputs": [],
   "source": [
    "def forward_diff(x, h):\n",
    "    return (f(x + h) - f(x)) / h"
   ]
  },
  {
   "cell_type": "markdown",
   "id": "bcd7b00d",
   "metadata": {},
   "source": [
    "defining derivative function with forward finite method"
   ]
  },
  {
   "cell_type": "code",
   "execution_count": 21,
   "id": "9a75cd2c",
   "metadata": {},
   "outputs": [],
   "source": [
    "def central_diff(x, h):\n",
    "    return ((f(x + h) - f(x - h)) / (2 * h))"
   ]
  },
  {
   "cell_type": "markdown",
   "id": "e355c51e",
   "metadata": {},
   "source": [
    "defining derivative function with central finite method"
   ]
  },
  {
   "cell_type": "code",
   "execution_count": 22,
   "id": "fa04f0c9",
   "metadata": {},
   "outputs": [
    {
     "name": "stdout",
     "output_type": "stream",
     "text": [
      "real value :  2.880510859951098\n",
      "\n",
      "h =  1\n",
      "estimated forward value :  0.6915339834406824\n",
      "forward error :  2.1889768765104156\n",
      "estimated central value :  0.1354992385909447\n",
      "central error :  2.7450116213601534\n",
      "\n",
      "h =  0.5\n",
      "estimated forward value :  2.4348309499473295\n",
      "forward error :  0.4456799100037685\n",
      "forward ratio :  0.28401724705185044\n",
      "estimated central value :  1.915530094439836\n",
      "central error :  0.9649807655112621\n",
      "central ratio :  0.07073720166770292\n",
      "\n",
      "h =  0.25\n",
      "estimated forward value :  2.917838287918174\n",
      "forward error :  0.03732742796707589\n",
      "forward ratio :  0.8344639797308776\n",
      "estimated central value :  2.6179571344144192\n",
      "central error :  0.2625537255366788\n",
      "central ratio :  0.7316888688738209\n",
      "\n",
      "h =  0.125\n",
      "estimated forward value :  2.968809973512829\n",
      "forward error :  0.08829911356173081\n",
      "forward ratio :  0.9828309369581028\n",
      "estimated central value :  2.8134719939576383\n",
      "central error :  0.06703886599345976\n",
      "central ratio :  0.9305076219123144\n",
      "\n",
      "h =  0.0625\n",
      "estimated forward value :  2.94201815738226\n",
      "forward error :  0.06150729743116212\n",
      "forward ratio :  1.0091066114134413\n",
      "estimated central value :  2.8636625101568307\n",
      "central error :  0.016848349794267303\n",
      "central ratio :  0.9824733131012552\n",
      "\n"
     ]
    }
   ],
   "source": [
    "x = 2\n",
    "h = 1\n",
    "first = True\n",
    "real = f_1(x)\n",
    "print('real value : ', real)\n",
    "print()\n",
    "\n",
    "hs = [0, 0, 0, 0, 0]\n",
    "error_fs = [0, 0, 0, 0, 0]\n",
    "error_cs = [0, 0, 0, 0, 0]\n",
    "\n",
    "for i in range(5):\n",
    "    forward = forward_diff(x, h)\n",
    "    central = central_diff(x, h)\n",
    "    error_f = abs(real - forward)\n",
    "    error_c = abs(real - central)\n",
    "    hs[i] = h\n",
    "    error_fs[i] = error_f\n",
    "    error_cs[i] = error_c\n",
    "    \n",
    "    print('h = ', h)\n",
    "    print('estimated forward value : ', forward)\n",
    "    print('forward error : ', error_f)\n",
    "    if not first:\n",
    "        ratio_f = prev_f / forward\n",
    "        print('forward ratio : ', ratio_f)\n",
    "    \n",
    "    print('estimated central value : ', central)\n",
    "    print('central error : ', error_c)\n",
    "    if not first:\n",
    "        ratio_c = prev_c / central\n",
    "        print('central ratio : ', ratio_c)\n",
    "    print()\n",
    "    \n",
    "    h = h / 2\n",
    "    prev_f = forward\n",
    "    prev_c = central\n",
    "    first  = False"
   ]
  },
  {
   "cell_type": "markdown",
   "id": "1568dcd4",
   "metadata": {},
   "source": [
    "testing the output of derivative with forward and central method , their error and ratio with 5 different value for h ,each more precise"
   ]
  },
  {
   "cell_type": "code",
   "execution_count": 23,
   "id": "2f52da96",
   "metadata": {},
   "outputs": [
    {
     "data": {
      "image/png": "[encoded data removed]",
      "text/plain": [
       "<Figure size 640x480 with 1 Axes>"
      ]
     },
     "metadata": {},
     "output_type": "display_data"
    }
   ],
   "source": [
    "plt.scatter(hs, error_fs, c='b', marker='x', label='forward')\n",
    "plt.scatter(hs, error_cs, c='r', marker='s', label='central')\n",
    "plt.ylabel('error')\n",
    "plt.xlabel('h')\n",
    "plt.legend(loc='upper left')\n",
    "plt.show()"
   ]
  },
  {
   "cell_type": "markdown",
   "id": "b002adf5",
   "metadata": {},
   "source": [
    "## Conclusion for this problem\n",
    "from the given errors for each method we can see that the error decreases when h is smaller and forward method's error is closer to the real error when h has larger values"
   ]
  },
  {
   "cell_type": "markdown",
   "id": "7b055e9b",
   "metadata": {},
   "source": [
    "ploting error of forward and central based on values of h"
   ]
  },
  {
   "cell_type": "markdown",
   "id": "dbbdb11c",
   "metadata": {},
   "source": [
    "## Problem 2 : Second Derivative"
   ]
  },
  {
   "cell_type": "code",
   "execution_count": 24,
   "id": "3b15bc1b",
   "metadata": {},
   "outputs": [],
   "source": [
    "def f_2(x):\n",
    "    return -9 * math.sin(3 * x)"
   ]
  },
  {
   "cell_type": "markdown",
   "id": "c44922a8",
   "metadata": {},
   "source": [
    "defining second derivative function for $f = $-9sin(3x) (real value)"
   ]
  },
  {
   "cell_type": "code",
   "execution_count": 25,
   "id": "0aa3353d",
   "metadata": {},
   "outputs": [],
   "source": [
    "def estimation_f_2(x, h):\n",
    "    return (f(x + h) - (2 * f(x)) + f(x - h)) / (h * h)"
   ]
  },
  {
   "cell_type": "markdown",
   "id": "fd749224",
   "metadata": {},
   "source": [
    "defining second derivative function for f : estimataion using real fisrt derivative value"
   ]
  },
  {
   "cell_type": "code",
   "execution_count": 64,
   "id": "27316553",
   "metadata": {},
   "outputs": [],
   "source": [
    "def estimation_f_2_c(x, h):\n",
    "    return (central_diff(x + h, h) - central_diff(x, h)) / h"
   ]
  },
  {
   "cell_type": "markdown",
   "id": "858aaaff",
   "metadata": {},
   "source": [
    " defining second derivative function for f : estimataion using central fisrt derivative value"
   ]
  },
  {
   "cell_type": "code",
   "execution_count": 27,
   "id": "46dd22e2",
   "metadata": {},
   "outputs": [],
   "source": [
    "def estimation_f_2_f(x, h):\n",
    "    return (forward_diff(x + h, h) - forward_diff(x, h)) / h"
   ]
  },
  {
   "cell_type": "markdown",
   "id": "34b3269f",
   "metadata": {},
   "source": [
    "defining second derivative function for f : estimataion using forward fisrt derivative value"
   ]
  },
  {
   "cell_type": "code",
   "execution_count": 28,
   "id": "d42a5c06",
   "metadata": {},
   "outputs": [
    {
     "name": "stdout",
     "output_type": "stream",
     "text": [
      "real value :  2.5147394837903327\n",
      "\n",
      "h =  1\n",
      "estimated value is :  1.1120694896994754\n",
      "second derivative error :  1.4026699940908574\n",
      "\n",
      "h =  0.5\n",
      "estimated value is :  2.0772034220299744\n",
      "second derivative error :  0.4375360617603583\n",
      "ratio :  0.5353686008338513\n",
      "\n",
      "h =  0.25\n",
      "estimated value is :  2.399049228030039\n",
      "second derivative error :  0.11569025576029368\n",
      "ratio :  0.8658444344369098\n",
      "\n",
      "h =  0.125\n",
      "estimated value is :  2.485407672883049\n",
      "second derivative error :  0.02933181090728354\n",
      "ratio :  0.9652538109561579\n",
      "\n",
      "h =  0.0625\n",
      "estimated value is :  2.5073807112137416\n",
      "second derivative error :  0.007358772576591122\n",
      "ratio :  0.9912366565506296\n",
      "\n"
     ]
    }
   ],
   "source": [
    "h = 1\n",
    "first = True\n",
    "real = f_2(x)\n",
    "error_f_2s = [0, 0, 0, 0, 0]\n",
    "error_f_2_cs = [0, 0, 0, 0, 0]\n",
    "error_f_2_fs = [0, 0, 0, 0, 0]\n",
    "print('real value : ', real)\n",
    "print()\n",
    "for i in range(5):\n",
    "    est_f_2 = estimation_f_2(x, h)\n",
    "    est_f_2_c = estimation_f_2_c(x, h)\n",
    "    est_f_2_f = estimation_f_2_f(x, h)\n",
    "    \n",
    "    error_f_2 = abs(est_f_2 - real)\n",
    "    \n",
    "    print('h = ', h)\n",
    "    print('estimated value is : ', est_f_2)\n",
    "    print('second derivative error : ', error_f_2)\n",
    "    if not first:\n",
    "        ratio = prev_est / est_f_2\n",
    "        print('ratio : ', ratio)\n",
    "    print()\n",
    "    error_f_2s[i] = error_f_2\n",
    "    error_f_2_fs[i] = abs(est_f_2_f - real)\n",
    "    error_f_2_cs[i] = abs(est_f_2_c - real)\n",
    "    prev_est = est_f_2\n",
    "    first = False\n",
    "    h = h / 2"
   ]
  },
  {
   "cell_type": "markdown",
   "id": "a57ab5b1",
   "metadata": {},
   "source": [
    "testing the output of second derivative estimation, error, and ratio with each different h "
   ]
  },
  {
   "cell_type": "code",
   "execution_count": 29,
   "id": "968e928e",
   "metadata": {
    "scrolled": false
   },
   "outputs": [
    {
     "data": {
      "image/png": "[encoded data removed]",
      "text/plain": [
       "<Figure size 640x480 with 1 Axes>"
      ]
     },
     "metadata": {},
     "output_type": "display_data"
    }
   ],
   "source": [
    "plt.scatter(hs, error_f_2_fs, c='b', marker='x', label='forward')\n",
    "plt.scatter(hs, error_f_2_cs, c='r', marker='s', label='central')\n",
    "plt.scatter(hs, error_f_2s, c='g', marker='o', label='real')\n",
    "plt.ylabel('error')\n",
    "plt.xlabel('h')\n",
    "plt.legend(loc='upper left')\n",
    "plt.show()"
   ]
  },
  {
   "cell_type": "markdown",
   "id": "247be94a",
   "metadata": {},
   "source": [
    "plotting the output with three ways of estimating "
   ]
  },
  {
   "cell_type": "markdown",
   "id": "fb5c6f69",
   "metadata": {},
   "source": [
    "## Conclusion for this problem\n",
    "from the given errors for each method we can see that the error decreases when h is smaller and central method's  error is closer to the real error than the forward method"
   ]
  },
  {
   "cell_type": "markdown",
   "id": "8ff08b0b",
   "metadata": {},
   "source": [
    "## Problem 3 : Differential Equation"
   ]
  },
  {
   "cell_type": "markdown",
   "id": "b21ec8b4",
   "metadata": {},
   "source": [
    "we have a bar which is pieced into five parts\n",
    "<br>\n",
    "each $x_i$ represents one piece and each $y_i$ represents the temprature in that area\n",
    "<br>\n",
    "our goal is to find the value of $y_1, y_2 and y_3$ with three differential equations which can be written as:\n",
    "    <br>\n",
    "    second derivative of y : $(y_i+1 - 2y + y_i-1) / h^2\n",
    "    $<br>\n",
    "    first derivative of y : $(y_i+1 - y_i-1) / 2h\n",
    "    $<br>\n",
    "    while $y_0 = 20$ and $y_4 = 25$"
   ]
  },
  {
   "cell_type": "code",
   "execution_count": 11,
   "id": "778ac5c0",
   "metadata": {},
   "outputs": [
    {
     "name": "stdout",
     "output_type": "stream",
     "text": [
      "{y_1: 35.1276209894460, y_2: 43.2030349106324, y_3: 40.4382822379196}\n",
      "{y_1: 23.3096091880197, y_2: 25.4010270204748, y_3: 26.0201205651547}\n",
      "{y_1: 21.6884809524360, y_2: 23.1040494436209, y_3: 24.2123894252920}\n",
      "{y_1: 21.3413593474799, y_2: 22.6242230730354, y_3: 23.8425311505773}\n",
      "{y_1: 21.2647693807503, y_2: 22.5197068199849, y_3: 23.7635660481617}\n",
      "{y_1: 21.2497177305261, y_2: 22.4994021440137, y_3: 23.7487729039090}\n",
      "{y_1: 21.2479454679273, y_2: 22.4971008786390, y_3: 23.7473999180893}\n",
      "{y_1: 21.2484945423663, y_2: 22.4979015967953, y_3: 23.7482050480773}\n",
      "{y_1: 21.2491277268356, y_2: 22.4987887154817, y_3: 23.7489789945632}\n",
      "{y_1: 21.2495339767666, y_2: 22.4993538515445, y_3: 23.7494586386382}\n"
     ]
    }
   ],
   "source": [
    "y_0, y_1, y_2, y_3, y_4 = sp.symbols('y_0 y_1 y_2 y_3 y_4')\n",
    "\n",
    "h = 0.5\n",
    "\n",
    "x_0 = 0\n",
    "x_1 = 0.25\n",
    "x_2 = 0.50\n",
    "x_3 = 0.75\n",
    "x_4 = 1\n",
    "\n",
    "y_0 = 20\n",
    "y_4 = 25\n",
    "\n",
    "for i in range(10):\n",
    "    eq1 = sp.Eq(((y_2 - 2 * y_1 + y_0) / (h ** 2)) - (x_1 * (y_2 - y_0) / (2 * h)) + y_1, math.sqrt(1.25))\n",
    "    eq2 = sp.Eq(((y_3 - 2 * y_2 + y_1) / (h ** 2)) - (x_2 * (y_3 - y_2) / (2 * h)) + y_2, math.sqrt(1.50))\n",
    "    eq3 = sp.Eq(((y_4 - 2 * y_3 + y_2) / (h ** 2)) - (x_3 * (y_4 - y_3) / (2 * h)) + y_3, math.sqrt(1.75))\n",
    "    sol = sp.solve((eq1, eq2, eq3), (y_1, y_2, y_3))\n",
    "    print(sol)\n",
    "    h = h / 2"
   ]
  },
  {
   "cell_type": "markdown",
   "id": "26be96ef",
   "metadata": {},
   "source": [
    "by using 10 different values for h , each step more precise , we  calculate the output"
   ]
  }
 ],
 "metadata": {
  "kernelspec": {
   "display_name": "Python 3 (ipykernel)",
   "language": "python",
   "name": "python3"
  },
  "language_info": {
   "codemirror_mode": {
    "name": "ipython",
    "version": 3
   },
   "file_extension": ".py",
   "mimetype": "text/x-python",
   "name": "python",
   "nbconvert_exporter": "python",
   "pygments_lexer": "ipython3",
   "version": "3.9.13"
  }
 },
 "nbformat": 4,
 "nbformat_minor": 5
}
